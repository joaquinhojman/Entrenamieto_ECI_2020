{
  "nbformat": 4,
  "nbformat_minor": 0,
  "metadata": {
    "colab": {
      "name": "TP1.ipynb",
      "provenance": [],
      "collapsed_sections": [],
      "include_colab_link": true
    },
    "kernelspec": {
      "name": "python3",
      "display_name": "Python 3"
    }
  },
  "cells": [
    {
      "cell_type": "markdown",
      "metadata": {
        "id": "view-in-github",
        "colab_type": "text"
      },
      "source": [
        "<a href=\"https://colab.research.google.com/github/joaquinhojman/Entrenamieto_ECI_2020/blob/main/TP1.ipynb\" target=\"_parent\"><img src=\"https://colab.research.google.com/assets/colab-badge.svg\" alt=\"Open In Colab\"/></a>"
      ]
    },
    {
      "cell_type": "code",
      "metadata": {
        "id": "ksvz2xa4Iv8U",
        "outputId": "611cc0c5-627e-4963-db7d-7201c1e2043f",
        "colab": {
          "base_uri": "https://localhost:8080/",
          "height": 326
        }
      },
      "source": [
        "import pandas as pd\n",
        "import numpy as np\n",
        "import seaborn as sns\n",
        "import matplotlib.pyplot as plt\n",
        "\n",
        "#Como levantar un archivo desde colab? https://towardsdatascience.com/3-ways-to-load-csv-files-into-colab-7c14fcbdcb92\n",
        "#Repositorio: https://github.com/joaquinhojman/Entrenamieto_ECI_2020\n",
        "\n",
        "# En el read_csv, castear las variables a los tipos que corresponden.\n",
        "# En el usecols sacar: \n",
        "#     * 'Submitted_for_Approval' (Un solo valor: 0)\n",
        "#     * 'Brand' (Muchos nulos: 15911)\n",
        "#     * 'Product_Type' (Muchos nulos: 15935)\n",
        "#     * 'Size' (Muchos nulos: 15967)\n",
        "#     * 'Product_Category_B' (Muchos nulos: 15928)\n",
        "#     * 'Price' (Muchos nulos; 15982)\n",
        "#     * 'Currency' (Muchos nulos: 16052)\n",
        "#     * 'Last_Activity' (Todos nulos)\n",
        "#     * 'ASP_(converted)_Currency' (Un solo valor: 'USD')\n",
        "#     * 'Actual_Delivery_Date' (Todos nulos)\n",
        "#     * 'Prod_Category_A' (Un solo valor: 'Prod_Category_A_None')\n",
        "\n",
        "url = 'https://raw.githubusercontent.com/joaquinhojman/Entrenamieto_ECI_2020/main/Entrenamieto_ECI_2020.csv'\n",
        "df_frio_frio = pd.read_csv(url,\\\n",
        "                 usecols=['ID', 'Region', 'Territory', 'Pricing, Delivery_Terms_Quote_Appr',\\\n",
        "                        'Pricing, Delivery_Terms_Approved', 'Bureaucratic_Code_0_Approval', 'Bureaucratic_Code_0_Approved',\\\n",
        "                        'Bureaucratic_Code', 'Account_Created_Date', 'Source ', 'Billing_Country',\\\n",
        "                        'Account_Name', 'Opportunity_Name', 'Opportunity_ID', 'Sales_Contract_No', 'Account_Owner',\\\n",
        "                        'Opportunity_Owner', 'Account_Type', 'Opportunity_Type', 'Quote_Type', 'Delivery_Terms',\\\n",
        "                        'Opportunity_Created_Date', 'Quote_Expiry_Date', 'Last_Modified_Date', 'Last_Modified_By',\\\n",
        "                        'Product_Family', 'Product_Name', 'ASP_Currency', 'ASP', 'ASP_(converted)',\\\n",
        "                        'Planned_Delivery_Start_Date', 'Planned_Delivery_End_Date', 'Month', 'Delivery_Quarter',\\\n",
        "                        'Delivery_Year', 'TRF', 'Total_Amount_Currency', 'Total_Amount', 'Total_Taxable_Amount_Currency',\\\n",
        "                        'Total_Taxable_Amount', 'Stage'],\\\n",
        "                  dtype={\n",
        "                        'Region' : 'category',\n",
        "                        'Territory' : 'category',\n",
        "                        'Bureaucratic_Code' : 'category',\n",
        "                        'Source ' : 'category',\n",
        "                        'Billing_Country' : 'category',\n",
        "                        'Account_Name' : 'category',\n",
        "                        'Opportunity_Name' : 'category',\n",
        "                        'Account_Owner' : 'category',\n",
        "                        'Opportunity_Owner' : 'category',\n",
        "                        'Account_Type' : 'category',\n",
        "                        'Opportunity_Type' : 'category',\n",
        "                        'Quote_Type' : 'category',\n",
        "                        'Delivery_Terms' : 'category',\n",
        "                        'Last_Modified_By' : 'category',\n",
        "                        'Product_Family' : 'category',\n",
        "                        'Product_Name' : 'category',\n",
        "                        'ASP_Currency' : 'category',\n",
        "                        'Delivery_Quarter' : 'category',\n",
        "                        'Total_Amount_Currency' : 'category',\n",
        "                        'Total_Taxable_Amount_Currency' : 'category',\n",
        "                        'Stage' : 'category'})\n",
        "# Dataset is now stored in a Pandas Dataframe\n",
        "\n",
        "df_frio_frio.head()"
      ],
      "execution_count": 3,
      "outputs": [
        {
          "output_type": "execute_result",
          "data": {
            "text/html": [
              "<div>\n",
              "<style scoped>\n",
              "    .dataframe tbody tr th:only-of-type {\n",
              "        vertical-align: middle;\n",
              "    }\n",
              "\n",
              "    .dataframe tbody tr th {\n",
              "        vertical-align: top;\n",
              "    }\n",
              "\n",
              "    .dataframe thead th {\n",
              "        text-align: right;\n",
              "    }\n",
              "</style>\n",
              "<table border=\"1\" class=\"dataframe\">\n",
              "  <thead>\n",
              "    <tr style=\"text-align: right;\">\n",
              "      <th></th>\n",
              "      <th>ID</th>\n",
              "      <th>Region</th>\n",
              "      <th>Territory</th>\n",
              "      <th>Pricing, Delivery_Terms_Quote_Appr</th>\n",
              "      <th>Pricing, Delivery_Terms_Approved</th>\n",
              "      <th>Bureaucratic_Code_0_Approval</th>\n",
              "      <th>Bureaucratic_Code_0_Approved</th>\n",
              "      <th>Bureaucratic_Code</th>\n",
              "      <th>Account_Created_Date</th>\n",
              "      <th>Source</th>\n",
              "      <th>Billing_Country</th>\n",
              "      <th>Account_Name</th>\n",
              "      <th>Opportunity_Name</th>\n",
              "      <th>Opportunity_ID</th>\n",
              "      <th>Sales_Contract_No</th>\n",
              "      <th>Account_Owner</th>\n",
              "      <th>Opportunity_Owner</th>\n",
              "      <th>Account_Type</th>\n",
              "      <th>Opportunity_Type</th>\n",
              "      <th>Quote_Type</th>\n",
              "      <th>Delivery_Terms</th>\n",
              "      <th>Opportunity_Created_Date</th>\n",
              "      <th>Quote_Expiry_Date</th>\n",
              "      <th>Last_Modified_Date</th>\n",
              "      <th>Last_Modified_By</th>\n",
              "      <th>Product_Family</th>\n",
              "      <th>Product_Name</th>\n",
              "      <th>ASP_Currency</th>\n",
              "      <th>ASP</th>\n",
              "      <th>ASP_(converted)</th>\n",
              "      <th>Planned_Delivery_Start_Date</th>\n",
              "      <th>Planned_Delivery_End_Date</th>\n",
              "      <th>Month</th>\n",
              "      <th>Delivery_Quarter</th>\n",
              "      <th>Delivery_Year</th>\n",
              "      <th>TRF</th>\n",
              "      <th>Total_Amount_Currency</th>\n",
              "      <th>Total_Amount</th>\n",
              "      <th>Total_Taxable_Amount_Currency</th>\n",
              "      <th>Total_Taxable_Amount</th>\n",
              "      <th>Stage</th>\n",
              "    </tr>\n",
              "  </thead>\n",
              "  <tbody>\n",
              "    <tr>\n",
              "      <th>0</th>\n",
              "      <td>27761</td>\n",
              "      <td>EMEA</td>\n",
              "      <td>None</td>\n",
              "      <td>1</td>\n",
              "      <td>1</td>\n",
              "      <td>1</td>\n",
              "      <td>1</td>\n",
              "      <td>Bureaucratic_Code_4</td>\n",
              "      <td>6/16/2015</td>\n",
              "      <td>None</td>\n",
              "      <td>Netherlands</td>\n",
              "      <td>Account_Name_619</td>\n",
              "      <td>Opportunity_Name_12598</td>\n",
              "      <td>0</td>\n",
              "      <td>None</td>\n",
              "      <td>Person_Name_51</td>\n",
              "      <td>Person_Name_18</td>\n",
              "      <td>Account_Type_2</td>\n",
              "      <td>Opportunity_Type_1</td>\n",
              "      <td>Non Binding</td>\n",
              "      <td>Delivery_Terms_2</td>\n",
              "      <td>12/7/2015</td>\n",
              "      <td>1/30/2016</td>\n",
              "      <td>6/13/2016</td>\n",
              "      <td>Person_Name_18</td>\n",
              "      <td>Product_Family_77</td>\n",
              "      <td>Product_Name_99</td>\n",
              "      <td>EUR</td>\n",
              "      <td>0.52</td>\n",
              "      <td>0.58817</td>\n",
              "      <td>5/1/2016</td>\n",
              "      <td>6/30/2016</td>\n",
              "      <td>2016 - 5</td>\n",
              "      <td>Q2</td>\n",
              "      <td>2016</td>\n",
              "      <td>10</td>\n",
              "      <td>EUR</td>\n",
              "      <td>5272800.0</td>\n",
              "      <td>EUR</td>\n",
              "      <td>5272800.0</td>\n",
              "      <td>Closed Lost</td>\n",
              "    </tr>\n",
              "    <tr>\n",
              "      <th>1</th>\n",
              "      <td>27760</td>\n",
              "      <td>EMEA</td>\n",
              "      <td>None</td>\n",
              "      <td>0</td>\n",
              "      <td>0</td>\n",
              "      <td>0</td>\n",
              "      <td>0</td>\n",
              "      <td>Bureaucratic_Code_4</td>\n",
              "      <td>6/16/2015</td>\n",
              "      <td>None</td>\n",
              "      <td>Netherlands</td>\n",
              "      <td>Account_Name_619</td>\n",
              "      <td>Opportunity_Name_12600</td>\n",
              "      <td>1</td>\n",
              "      <td>39</td>\n",
              "      <td>Person_Name_51</td>\n",
              "      <td>Person_Name_20</td>\n",
              "      <td>Account_Type_2</td>\n",
              "      <td>Opportunity_Type_1</td>\n",
              "      <td>Non Binding</td>\n",
              "      <td>Delivery_Terms_2</td>\n",
              "      <td>12/7/2015</td>\n",
              "      <td>1/20/2016</td>\n",
              "      <td>1/15/2016</td>\n",
              "      <td>Person_Name_20</td>\n",
              "      <td>Product_Family_77</td>\n",
              "      <td>Product_Name_100</td>\n",
              "      <td>EUR</td>\n",
              "      <td>0.53</td>\n",
              "      <td>0.59948</td>\n",
              "      <td>1/18/2016</td>\n",
              "      <td>1/20/2016</td>\n",
              "      <td>2016 - 1</td>\n",
              "      <td>Q1</td>\n",
              "      <td>2016</td>\n",
              "      <td>0</td>\n",
              "      <td>EUR</td>\n",
              "      <td>48230.0</td>\n",
              "      <td>EUR</td>\n",
              "      <td>48230.0</td>\n",
              "      <td>Closed Won</td>\n",
              "    </tr>\n",
              "    <tr>\n",
              "      <th>2</th>\n",
              "      <td>27446</td>\n",
              "      <td>Americas</td>\n",
              "      <td>NW America</td>\n",
              "      <td>0</td>\n",
              "      <td>0</td>\n",
              "      <td>0</td>\n",
              "      <td>0</td>\n",
              "      <td>Bureaucratic_Code_4</td>\n",
              "      <td>4/21/2015</td>\n",
              "      <td>Source_7</td>\n",
              "      <td>United States</td>\n",
              "      <td>Account_Name_1794</td>\n",
              "      <td>Opportunity_Name_469</td>\n",
              "      <td>2</td>\n",
              "      <td>760</td>\n",
              "      <td>Person_Name_64</td>\n",
              "      <td>Person_Name_8</td>\n",
              "      <td>Account_Type_5</td>\n",
              "      <td>Opportunity_Type_1</td>\n",
              "      <td>Non Binding</td>\n",
              "      <td>Delivery_Terms_4</td>\n",
              "      <td>12/8/2015</td>\n",
              "      <td>9/30/2016</td>\n",
              "      <td>9/29/2016</td>\n",
              "      <td>Person_Name_8</td>\n",
              "      <td>Product_Family_81</td>\n",
              "      <td>Product_Name_91</td>\n",
              "      <td>USD</td>\n",
              "      <td>0.48</td>\n",
              "      <td>0.48000</td>\n",
              "      <td>1/25/2016</td>\n",
              "      <td>1/25/2016</td>\n",
              "      <td>2016 - 1</td>\n",
              "      <td>Q1</td>\n",
              "      <td>2016</td>\n",
              "      <td>0</td>\n",
              "      <td>USD</td>\n",
              "      <td>83865.6</td>\n",
              "      <td>USD</td>\n",
              "      <td>83865.6</td>\n",
              "      <td>Closed Won</td>\n",
              "    </tr>\n",
              "    <tr>\n",
              "      <th>3</th>\n",
              "      <td>16808</td>\n",
              "      <td>Americas</td>\n",
              "      <td>NW America</td>\n",
              "      <td>1</td>\n",
              "      <td>0</td>\n",
              "      <td>1</td>\n",
              "      <td>0</td>\n",
              "      <td>Bureaucratic_Code_5</td>\n",
              "      <td>7/27/2013</td>\n",
              "      <td>Source_11</td>\n",
              "      <td>United States</td>\n",
              "      <td>Account_Name_1201</td>\n",
              "      <td>Opportunity_Name_415</td>\n",
              "      <td>3</td>\n",
              "      <td>None</td>\n",
              "      <td>Person_Name_8</td>\n",
              "      <td>Person_Name_8</td>\n",
              "      <td>Account_Type_5</td>\n",
              "      <td>Opportunity_Type_19</td>\n",
              "      <td>Non Binding</td>\n",
              "      <td>Delivery_Terms_1</td>\n",
              "      <td>12/8/2015</td>\n",
              "      <td>NaT</td>\n",
              "      <td>3/27/2018</td>\n",
              "      <td>Person_Name_8</td>\n",
              "      <td>Product_Family_209</td>\n",
              "      <td>Product_Name_432</td>\n",
              "      <td>USD</td>\n",
              "      <td>0.53</td>\n",
              "      <td>0.53000</td>\n",
              "      <td>2/1/2018</td>\n",
              "      <td>3/31/2018</td>\n",
              "      <td>2018 - 2</td>\n",
              "      <td>Q1</td>\n",
              "      <td>2018</td>\n",
              "      <td>14</td>\n",
              "      <td>USD</td>\n",
              "      <td>7421881.5</td>\n",
              "      <td>USD</td>\n",
              "      <td>7421881.5</td>\n",
              "      <td>Closed Lost</td>\n",
              "    </tr>\n",
              "    <tr>\n",
              "      <th>4</th>\n",
              "      <td>16805</td>\n",
              "      <td>Americas</td>\n",
              "      <td>NW America</td>\n",
              "      <td>1</td>\n",
              "      <td>0</td>\n",
              "      <td>1</td>\n",
              "      <td>0</td>\n",
              "      <td>Bureaucratic_Code_5</td>\n",
              "      <td>7/27/2013</td>\n",
              "      <td>Source_11</td>\n",
              "      <td>United States</td>\n",
              "      <td>Account_Name_1201</td>\n",
              "      <td>Opportunity_Name_851</td>\n",
              "      <td>4</td>\n",
              "      <td>None</td>\n",
              "      <td>Person_Name_8</td>\n",
              "      <td>Person_Name_8</td>\n",
              "      <td>Account_Type_5</td>\n",
              "      <td>Opportunity_Type_19</td>\n",
              "      <td>Non Binding</td>\n",
              "      <td>Delivery_Terms_1</td>\n",
              "      <td>12/8/2015</td>\n",
              "      <td>6/2/2017</td>\n",
              "      <td>3/27/2018</td>\n",
              "      <td>Person_Name_8</td>\n",
              "      <td>Product_Family_209</td>\n",
              "      <td>Product_Name_432</td>\n",
              "      <td>USD</td>\n",
              "      <td>0.53</td>\n",
              "      <td>0.53000</td>\n",
              "      <td>2/1/2018</td>\n",
              "      <td>2/28/2018</td>\n",
              "      <td>2018 - 2</td>\n",
              "      <td>Q1</td>\n",
              "      <td>2018</td>\n",
              "      <td>25</td>\n",
              "      <td>USD</td>\n",
              "      <td>13357192.5</td>\n",
              "      <td>USD</td>\n",
              "      <td>13357192.5</td>\n",
              "      <td>Closed Lost</td>\n",
              "    </tr>\n",
              "  </tbody>\n",
              "</table>\n",
              "</div>"
            ],
            "text/plain": [
              "      ID    Region  ... Total_Taxable_Amount        Stage\n",
              "0  27761      EMEA  ...            5272800.0  Closed Lost\n",
              "1  27760      EMEA  ...              48230.0   Closed Won\n",
              "2  27446  Americas  ...              83865.6   Closed Won\n",
              "3  16808  Americas  ...            7421881.5  Closed Lost\n",
              "4  16805  Americas  ...           13357192.5  Closed Lost\n",
              "\n",
              "[5 rows x 41 columns]"
            ]
          },
          "metadata": {
            "tags": []
          },
          "execution_count": 3
        }
      ]
    },
    {
      "cell_type": "code",
      "metadata": {
        "id": "lLF_Ja8LIzxf",
        "outputId": "25a4fb11-fa57-4a64-f85b-59fbce6aad99",
        "colab": {
          "base_uri": "https://localhost:8080/",
          "height": 34
        }
      },
      "source": [
        "#cantidad de columnas de la abse\n",
        "len(df_frio_frio.columns)"
      ],
      "execution_count": null,
      "outputs": [
        {
          "output_type": "execute_result",
          "data": {
            "text/plain": [
              "41"
            ]
          },
          "metadata": {
            "tags": []
          },
          "execution_count": 3
        }
      ]
    },
    {
      "cell_type": "code",
      "metadata": {
        "id": "OBPQug1QKL-l",
        "outputId": "f3369b89-ec1a-421e-d8f2-d822e4f46335",
        "colab": {
          "base_uri": "https://localhost:8080/",
          "height": 34
        }
      },
      "source": [
        "#cantidad de filas de la base\n",
        "len(df_frio_frio)"
      ],
      "execution_count": null,
      "outputs": [
        {
          "output_type": "execute_result",
          "data": {
            "text/plain": [
              "16947"
            ]
          },
          "metadata": {
            "tags": []
          },
          "execution_count": 4
        }
      ]
    },
    {
      "cell_type": "code",
      "metadata": {
        "id": "XmjYtPeE_YM_"
      },
      "source": [
        "# Sacar espacio del nombre de la columna 'Source'\n",
        "df_frio_frio.rename(columns={'Source ' : 'Source', 'ASP_(converted)' : 'ASP_(converted_USD)'}, inplace=True)"
      ],
      "execution_count": null,
      "outputs": []
    },
    {
      "cell_type": "code",
      "metadata": {
        "id": "koQCdwmD_5Ex"
      },
      "source": [
        "# Poner en la columna Month sólo el mes (que no aparezca el año)\n",
        "df_frio_frio['Month'] = pd.to_datetime(df_frio_frio['Month'], format='%Y - %m').dt.month"
      ],
      "execution_count": null,
      "outputs": []
    },
    {
      "cell_type": "code",
      "metadata": {
        "id": "PzmQ9pu3_-Cr"
      },
      "source": [
        "# Pasar la columna 'Sales_Contract_No' a numérico (incluídos los nulos)\n",
        "df_frio_frio['Sales_Contract_No'] = df_frio_frio['Sales_Contract_No'].replace('None', np.NaN)\n",
        "df_frio_frio['Sales_Contract_No'] = df_frio_frio['Sales_Contract_No'].astype('float')"
      ],
      "execution_count": null,
      "outputs": []
    },
    {
      "cell_type": "code",
      "metadata": {
        "id": "sbWkg5IaADv4"
      },
      "source": [
        "# Pasar las columnas de fechas a formato datetime\n",
        "formato_fecha = '%m/%d/%Y'\n",
        "df_frio_frio['Account_Created_Date'] = pd.to_datetime(df_frio_frio['Account_Created_Date'], format=formato_fecha) # ver fecha fila 0\n",
        "df_frio_frio['Opportunity_Created_Date'] = pd.to_datetime(df_frio_frio['Opportunity_Created_Date'], format=formato_fecha) # ver fecha fila 77\n",
        "df_frio_frio['Quote_Expiry_Date'] = pd.to_datetime(df_frio_frio['Quote_Expiry_Date'], format=formato_fecha) # ver fecha fila 0\n",
        "df_frio_frio['Last_Modified_Date'] = pd.to_datetime(df_frio_frio['Last_Modified_Date'], format=formato_fecha) # ver fecha fila 0\n",
        "df_frio_frio['Planned_Delivery_Start_Date'] = pd.to_datetime(df_frio_frio['Planned_Delivery_Start_Date'], format=formato_fecha) # ver fechas filas 0 y 1, comparar el mes con month\n",
        "df_frio_frio['Planned_Delivery_End_Date'] = pd.to_datetime(df_frio_frio['Planned_Delivery_End_Date'], format=formato_fecha) # ver fecha fila 0"
      ],
      "execution_count": null,
      "outputs": []
    },
    {
      "cell_type": "code",
      "metadata": {
        "id": "LRTEDLCmXRUc",
        "outputId": "7db0b927-9d95-4723-865a-437eca32df37",
        "colab": {
          "base_uri": "https://localhost:8080/",
          "height": 334
        }
      },
      "source": [
        "#Estadisticas de la base\n",
        "df_frio_frio.describe()"
      ],
      "execution_count": null,
      "outputs": [
        {
          "output_type": "execute_result",
          "data": {
            "text/html": [
              "<div>\n",
              "<style scoped>\n",
              "    .dataframe tbody tr th:only-of-type {\n",
              "        vertical-align: middle;\n",
              "    }\n",
              "\n",
              "    .dataframe tbody tr th {\n",
              "        vertical-align: top;\n",
              "    }\n",
              "\n",
              "    .dataframe thead th {\n",
              "        text-align: right;\n",
              "    }\n",
              "</style>\n",
              "<table border=\"1\" class=\"dataframe\">\n",
              "  <thead>\n",
              "    <tr style=\"text-align: right;\">\n",
              "      <th></th>\n",
              "      <th>ID</th>\n",
              "      <th>Pricing, Delivery_Terms_Quote_Appr</th>\n",
              "      <th>Pricing, Delivery_Terms_Approved</th>\n",
              "      <th>Bureaucratic_Code_0_Approval</th>\n",
              "      <th>Bureaucratic_Code_0_Approved</th>\n",
              "      <th>Opportunity_ID</th>\n",
              "      <th>Sales_Contract_No</th>\n",
              "      <th>ASP</th>\n",
              "      <th>ASP_(converted_USD)</th>\n",
              "      <th>Month</th>\n",
              "      <th>Delivery_Year</th>\n",
              "      <th>TRF</th>\n",
              "      <th>Total_Amount</th>\n",
              "      <th>Total_Taxable_Amount</th>\n",
              "    </tr>\n",
              "  </thead>\n",
              "  <tbody>\n",
              "    <tr>\n",
              "      <th>count</th>\n",
              "      <td>16947.000000</td>\n",
              "      <td>16947.000000</td>\n",
              "      <td>16947.000000</td>\n",
              "      <td>16947.000000</td>\n",
              "      <td>16947.000000</td>\n",
              "      <td>16947.000000</td>\n",
              "      <td>9974.000000</td>\n",
              "      <td>13738.000000</td>\n",
              "      <td>13738.000000</td>\n",
              "      <td>16947.000000</td>\n",
              "      <td>16947.000000</td>\n",
              "      <td>16947.000000</td>\n",
              "      <td>1.688800e+04</td>\n",
              "      <td>1.694700e+04</td>\n",
              "    </tr>\n",
              "    <tr>\n",
              "      <th>mean</th>\n",
              "      <td>17666.650440</td>\n",
              "      <td>0.807990</td>\n",
              "      <td>0.583584</td>\n",
              "      <td>0.475482</td>\n",
              "      <td>0.318876</td>\n",
              "      <td>5335.940225</td>\n",
              "      <td>2725.414979</td>\n",
              "      <td>7.012128</td>\n",
              "      <td>0.432554</td>\n",
              "      <td>6.400897</td>\n",
              "      <td>2017.137428</td>\n",
              "      <td>2.338172</td>\n",
              "      <td>1.993659e+06</td>\n",
              "      <td>3.224117e+06</td>\n",
              "    </tr>\n",
              "    <tr>\n",
              "      <th>std</th>\n",
              "      <td>6940.859372</td>\n",
              "      <td>0.393893</td>\n",
              "      <td>0.492979</td>\n",
              "      <td>0.499413</td>\n",
              "      <td>0.466055</td>\n",
              "      <td>3324.723809</td>\n",
              "      <td>1569.252469</td>\n",
              "      <td>18.858359</td>\n",
              "      <td>0.758659</td>\n",
              "      <td>3.379323</td>\n",
              "      <td>0.829603</td>\n",
              "      <td>12.169339</td>\n",
              "      <td>1.848426e+07</td>\n",
              "      <td>2.030360e+07</td>\n",
              "    </tr>\n",
              "    <tr>\n",
              "      <th>min</th>\n",
              "      <td>4854.000000</td>\n",
              "      <td>0.000000</td>\n",
              "      <td>0.000000</td>\n",
              "      <td>0.000000</td>\n",
              "      <td>0.000000</td>\n",
              "      <td>0.000000</td>\n",
              "      <td>0.000000</td>\n",
              "      <td>0.000000</td>\n",
              "      <td>0.000000</td>\n",
              "      <td>1.000000</td>\n",
              "      <td>2016.000000</td>\n",
              "      <td>0.000000</td>\n",
              "      <td>0.000000e+00</td>\n",
              "      <td>0.000000e+00</td>\n",
              "    </tr>\n",
              "    <tr>\n",
              "      <th>25%</th>\n",
              "      <td>11953.000000</td>\n",
              "      <td>1.000000</td>\n",
              "      <td>0.000000</td>\n",
              "      <td>0.000000</td>\n",
              "      <td>0.000000</td>\n",
              "      <td>2448.500000</td>\n",
              "      <td>1396.500000</td>\n",
              "      <td>0.360000</td>\n",
              "      <td>0.373260</td>\n",
              "      <td>3.000000</td>\n",
              "      <td>2016.000000</td>\n",
              "      <td>0.000000</td>\n",
              "      <td>2.677500e+04</td>\n",
              "      <td>8.546580e+04</td>\n",
              "    </tr>\n",
              "    <tr>\n",
              "      <th>50%</th>\n",
              "      <td>18114.000000</td>\n",
              "      <td>1.000000</td>\n",
              "      <td>1.000000</td>\n",
              "      <td>0.000000</td>\n",
              "      <td>0.000000</td>\n",
              "      <td>5306.000000</td>\n",
              "      <td>2801.500000</td>\n",
              "      <td>0.400000</td>\n",
              "      <td>0.412850</td>\n",
              "      <td>6.000000</td>\n",
              "      <td>2017.000000</td>\n",
              "      <td>0.000000</td>\n",
              "      <td>1.072500e+05</td>\n",
              "      <td>3.760672e+05</td>\n",
              "    </tr>\n",
              "    <tr>\n",
              "      <th>75%</th>\n",
              "      <td>23845.500000</td>\n",
              "      <td>1.000000</td>\n",
              "      <td>1.000000</td>\n",
              "      <td>1.000000</td>\n",
              "      <td>1.000000</td>\n",
              "      <td>7698.000000</td>\n",
              "      <td>4009.000000</td>\n",
              "      <td>0.505000</td>\n",
              "      <td>0.476490</td>\n",
              "      <td>9.000000</td>\n",
              "      <td>2018.000000</td>\n",
              "      <td>1.000000</td>\n",
              "      <td>4.603898e+05</td>\n",
              "      <td>1.037450e+06</td>\n",
              "    </tr>\n",
              "    <tr>\n",
              "      <th>max</th>\n",
              "      <td>28773.000000</td>\n",
              "      <td>1.000000</td>\n",
              "      <td>1.000000</td>\n",
              "      <td>1.000000</td>\n",
              "      <td>1.000000</td>\n",
              "      <td>12803.000000</td>\n",
              "      <td>6517.000000</td>\n",
              "      <td>80.000000</td>\n",
              "      <td>67.000000</td>\n",
              "      <td>12.000000</td>\n",
              "      <td>2020.000000</td>\n",
              "      <td>500.000000</td>\n",
              "      <td>1.320000e+09</td>\n",
              "      <td>1.356339e+09</td>\n",
              "    </tr>\n",
              "  </tbody>\n",
              "</table>\n",
              "</div>"
            ],
            "text/plain": [
              "                 ID  ...  Total_Taxable_Amount\n",
              "count  16947.000000  ...          1.694700e+04\n",
              "mean   17666.650440  ...          3.224117e+06\n",
              "std     6940.859372  ...          2.030360e+07\n",
              "min     4854.000000  ...          0.000000e+00\n",
              "25%    11953.000000  ...          8.546580e+04\n",
              "50%    18114.000000  ...          3.760672e+05\n",
              "75%    23845.500000  ...          1.037450e+06\n",
              "max    28773.000000  ...          1.356339e+09\n",
              "\n",
              "[8 rows x 14 columns]"
            ]
          },
          "metadata": {
            "tags": []
          },
          "execution_count": 9
        }
      ]
    },
    {
      "cell_type": "code",
      "metadata": {
        "id": "a1vP-4EGXTnY",
        "outputId": "fc5a2494-294e-4d12-d541-ad66bcefd1da",
        "colab": {
          "base_uri": "https://localhost:8080/",
          "height": 833
        }
      },
      "source": [
        "#informacion sobre las columnas de la base\n",
        "df_frio_frio.info()"
      ],
      "execution_count": null,
      "outputs": [
        {
          "output_type": "stream",
          "text": [
            "<class 'pandas.core.frame.DataFrame'>\n",
            "RangeIndex: 16947 entries, 0 to 16946\n",
            "Data columns (total 41 columns):\n",
            " #   Column                              Non-Null Count  Dtype         \n",
            "---  ------                              --------------  -----         \n",
            " 0   ID                                  16947 non-null  int64         \n",
            " 1   Region                              16947 non-null  category      \n",
            " 2   Territory                           16947 non-null  category      \n",
            " 3   Pricing, Delivery_Terms_Quote_Appr  16947 non-null  int64         \n",
            " 4   Pricing, Delivery_Terms_Approved    16947 non-null  int64         \n",
            " 5   Bureaucratic_Code_0_Approval        16947 non-null  int64         \n",
            " 6   Bureaucratic_Code_0_Approved        16947 non-null  int64         \n",
            " 7   Bureaucratic_Code                   16947 non-null  category      \n",
            " 8   Account_Created_Date                16947 non-null  datetime64[ns]\n",
            " 9   Source                              16947 non-null  category      \n",
            " 10  Billing_Country                     16947 non-null  category      \n",
            " 11  Account_Name                        16947 non-null  category      \n",
            " 12  Opportunity_Name                    16947 non-null  category      \n",
            " 13  Opportunity_ID                      16947 non-null  int64         \n",
            " 14  Sales_Contract_No                   9974 non-null   float64       \n",
            " 15  Account_Owner                       16947 non-null  category      \n",
            " 16  Opportunity_Owner                   16947 non-null  category      \n",
            " 17  Account_Type                        16947 non-null  category      \n",
            " 18  Opportunity_Type                    16947 non-null  category      \n",
            " 19  Quote_Type                          16947 non-null  category      \n",
            " 20  Delivery_Terms                      16947 non-null  category      \n",
            " 21  Opportunity_Created_Date            16947 non-null  datetime64[ns]\n",
            " 22  Quote_Expiry_Date                   12322 non-null  datetime64[ns]\n",
            " 23  Last_Modified_Date                  16947 non-null  datetime64[ns]\n",
            " 24  Last_Modified_By                    16947 non-null  category      \n",
            " 25  Product_Family                      16947 non-null  category      \n",
            " 26  Product_Name                        16947 non-null  category      \n",
            " 27  ASP_Currency                        16947 non-null  category      \n",
            " 28  ASP                                 13738 non-null  float64       \n",
            " 29  ASP_(converted_USD)                 13738 non-null  float64       \n",
            " 30  Planned_Delivery_Start_Date         16947 non-null  datetime64[ns]\n",
            " 31  Planned_Delivery_End_Date           16872 non-null  datetime64[ns]\n",
            " 32  Month                               16947 non-null  int64         \n",
            " 33  Delivery_Quarter                    16947 non-null  category      \n",
            " 34  Delivery_Year                       16947 non-null  int64         \n",
            " 35  TRF                                 16947 non-null  int64         \n",
            " 36  Total_Amount_Currency               16947 non-null  category      \n",
            " 37  Total_Amount                        16888 non-null  float64       \n",
            " 38  Total_Taxable_Amount_Currency       16947 non-null  category      \n",
            " 39  Total_Taxable_Amount                16947 non-null  float64       \n",
            " 40  Stage                               16947 non-null  category      \n",
            "dtypes: category(21), datetime64[ns](6), float64(5), int64(9)\n",
            "memory usage: 3.5 MB\n"
          ],
          "name": "stdout"
        }
      ]
    },
    {
      "cell_type": "code",
      "metadata": {
        "id": "a4C_V1ljXV3z",
        "outputId": "27265bc4-c2e9-4f45-9bf1-629113ab40c4",
        "colab": {
          "base_uri": "https://localhost:8080/",
          "height": 419
        }
      },
      "source": [
        "# Me interesa ver la distribucion de las ventas exitosas y fallidas en el tiempo\n",
        "# empiezo con las ventas exitosas\n",
        "df_exito = df_frio_frio[['Stage','Planned_Delivery_Start_Date']] # dejo solo las columas que me interesan\n",
        "df_exito = df_exito[df_exito['Stage'] == 'Closed Won']  # dejo solo los closed won\n",
        "df_exito"
      ],
      "execution_count": null,
      "outputs": [
        {
          "output_type": "execute_result",
          "data": {
            "text/html": [
              "<div>\n",
              "<style scoped>\n",
              "    .dataframe tbody tr th:only-of-type {\n",
              "        vertical-align: middle;\n",
              "    }\n",
              "\n",
              "    .dataframe tbody tr th {\n",
              "        vertical-align: top;\n",
              "    }\n",
              "\n",
              "    .dataframe thead th {\n",
              "        text-align: right;\n",
              "    }\n",
              "</style>\n",
              "<table border=\"1\" class=\"dataframe\">\n",
              "  <thead>\n",
              "    <tr style=\"text-align: right;\">\n",
              "      <th></th>\n",
              "      <th>Stage</th>\n",
              "      <th>Planned_Delivery_Start_Date</th>\n",
              "    </tr>\n",
              "  </thead>\n",
              "  <tbody>\n",
              "    <tr>\n",
              "      <th>1</th>\n",
              "      <td>Closed Won</td>\n",
              "      <td>2016-01-18</td>\n",
              "    </tr>\n",
              "    <tr>\n",
              "      <th>2</th>\n",
              "      <td>Closed Won</td>\n",
              "      <td>2016-01-25</td>\n",
              "    </tr>\n",
              "    <tr>\n",
              "      <th>7</th>\n",
              "      <td>Closed Won</td>\n",
              "      <td>2016-01-25</td>\n",
              "    </tr>\n",
              "    <tr>\n",
              "      <th>23</th>\n",
              "      <td>Closed Won</td>\n",
              "      <td>2016-01-09</td>\n",
              "    </tr>\n",
              "    <tr>\n",
              "      <th>63</th>\n",
              "      <td>Closed Won</td>\n",
              "      <td>2016-01-18</td>\n",
              "    </tr>\n",
              "    <tr>\n",
              "      <th>...</th>\n",
              "      <td>...</td>\n",
              "      <td>...</td>\n",
              "    </tr>\n",
              "    <tr>\n",
              "      <th>16937</th>\n",
              "      <td>Closed Won</td>\n",
              "      <td>2016-02-01</td>\n",
              "    </tr>\n",
              "    <tr>\n",
              "      <th>16939</th>\n",
              "      <td>Closed Won</td>\n",
              "      <td>2016-04-01</td>\n",
              "    </tr>\n",
              "    <tr>\n",
              "      <th>16942</th>\n",
              "      <td>Closed Won</td>\n",
              "      <td>2016-03-21</td>\n",
              "    </tr>\n",
              "    <tr>\n",
              "      <th>16943</th>\n",
              "      <td>Closed Won</td>\n",
              "      <td>2016-04-04</td>\n",
              "    </tr>\n",
              "    <tr>\n",
              "      <th>16944</th>\n",
              "      <td>Closed Won</td>\n",
              "      <td>2016-03-28</td>\n",
              "    </tr>\n",
              "  </tbody>\n",
              "</table>\n",
              "<p>9533 rows × 2 columns</p>\n",
              "</div>"
            ],
            "text/plain": [
              "            Stage Planned_Delivery_Start_Date\n",
              "1      Closed Won                  2016-01-18\n",
              "2      Closed Won                  2016-01-25\n",
              "7      Closed Won                  2016-01-25\n",
              "23     Closed Won                  2016-01-09\n",
              "63     Closed Won                  2016-01-18\n",
              "...           ...                         ...\n",
              "16937  Closed Won                  2016-02-01\n",
              "16939  Closed Won                  2016-04-01\n",
              "16942  Closed Won                  2016-03-21\n",
              "16943  Closed Won                  2016-04-04\n",
              "16944  Closed Won                  2016-03-28\n",
              "\n",
              "[9533 rows x 2 columns]"
            ]
          },
          "metadata": {
            "tags": []
          },
          "execution_count": 10
        }
      ]
    },
    {
      "cell_type": "code",
      "metadata": {
        "id": "fn9L6EhBXcPQ",
        "outputId": "981879b5-b4cb-485b-8b89-6c7cbd19b78e",
        "colab": {
          "base_uri": "https://localhost:8080/",
          "height": 317
        }
      },
      "source": [
        "#Grafico los exitos en el tiempo\n",
        "\n",
        "g = sns.kdeplot(df_exito[\"Planned_Delivery_Start_Date\"])\n",
        "g.set_title(\"Densidad de casos de exitos en el tiempo\", fontsize=14)\n",
        "g.set_xlabel(\"Fecha estimada minima de entrega\", fontsize=14)\n",
        "g.set_ylabel(\"Densidad\", fontsize=14)"
      ],
      "execution_count": null,
      "outputs": [
        {
          "output_type": "execute_result",
          "data": {
            "text/plain": [
              "Text(0, 0.5, 'Densidad')"
            ]
          },
          "metadata": {
            "tags": []
          },
          "execution_count": 11
        },
        {
          "output_type": "display_data",
          "data": {
            "image/png": "[encoded data removed]",
            "text/plain": [
              "<Figure size 432x288 with 1 Axes>"
            ]
          },
          "metadata": {
            "tags": [],
            "needs_background": "light"
          }
        }
      ]
    },
    {
      "cell_type": "code",
      "metadata": {
        "id": "OGPLtp3IX6eU",
        "outputId": "b03dd1f2-fa40-4142-d75b-fe609ecbf4ba",
        "colab": {
          "base_uri": "https://localhost:8080/",
          "height": 419
        }
      },
      "source": [
        "#Ahora buscamos ver las ventas fallidas en funcion del tiempo\n",
        "df_fracaso = df_frio_frio[['Stage','Planned_Delivery_Start_Date']] #dejo solo las columas que me interesan\n",
        "df_fracaso = df_fracaso[df_fracaso['Stage'] == 'Closed Lost']  #dejo solo los closed won\n",
        "df_fracaso"
      ],
      "execution_count": null,
      "outputs": [
        {
          "output_type": "execute_result",
          "data": {
            "text/html": [
              "<div>\n",
              "<style scoped>\n",
              "    .dataframe tbody tr th:only-of-type {\n",
              "        vertical-align: middle;\n",
              "    }\n",
              "\n",
              "    .dataframe tbody tr th {\n",
              "        vertical-align: top;\n",
              "    }\n",
              "\n",
              "    .dataframe thead th {\n",
              "        text-align: right;\n",
              "    }\n",
              "</style>\n",
              "<table border=\"1\" class=\"dataframe\">\n",
              "  <thead>\n",
              "    <tr style=\"text-align: right;\">\n",
              "      <th></th>\n",
              "      <th>Stage</th>\n",
              "      <th>Planned_Delivery_Start_Date</th>\n",
              "    </tr>\n",
              "  </thead>\n",
              "  <tbody>\n",
              "    <tr>\n",
              "      <th>0</th>\n",
              "      <td>Closed Lost</td>\n",
              "      <td>2016-05-01</td>\n",
              "    </tr>\n",
              "    <tr>\n",
              "      <th>3</th>\n",
              "      <td>Closed Lost</td>\n",
              "      <td>2018-02-01</td>\n",
              "    </tr>\n",
              "    <tr>\n",
              "      <th>4</th>\n",
              "      <td>Closed Lost</td>\n",
              "      <td>2018-02-01</td>\n",
              "    </tr>\n",
              "    <tr>\n",
              "      <th>5</th>\n",
              "      <td>Closed Lost</td>\n",
              "      <td>2018-02-01</td>\n",
              "    </tr>\n",
              "    <tr>\n",
              "      <th>6</th>\n",
              "      <td>Closed Lost</td>\n",
              "      <td>2017-02-01</td>\n",
              "    </tr>\n",
              "    <tr>\n",
              "      <th>...</th>\n",
              "      <td>...</td>\n",
              "      <td>...</td>\n",
              "    </tr>\n",
              "    <tr>\n",
              "      <th>16938</th>\n",
              "      <td>Closed Lost</td>\n",
              "      <td>2016-08-15</td>\n",
              "    </tr>\n",
              "    <tr>\n",
              "      <th>16940</th>\n",
              "      <td>Closed Lost</td>\n",
              "      <td>2016-10-03</td>\n",
              "    </tr>\n",
              "    <tr>\n",
              "      <th>16941</th>\n",
              "      <td>Closed Lost</td>\n",
              "      <td>2016-10-03</td>\n",
              "    </tr>\n",
              "    <tr>\n",
              "      <th>16945</th>\n",
              "      <td>Closed Lost</td>\n",
              "      <td>2016-04-25</td>\n",
              "    </tr>\n",
              "    <tr>\n",
              "      <th>16946</th>\n",
              "      <td>Closed Lost</td>\n",
              "      <td>2016-07-01</td>\n",
              "    </tr>\n",
              "  </tbody>\n",
              "</table>\n",
              "<p>7350 rows × 2 columns</p>\n",
              "</div>"
            ],
            "text/plain": [
              "             Stage Planned_Delivery_Start_Date\n",
              "0      Closed Lost                  2016-05-01\n",
              "3      Closed Lost                  2018-02-01\n",
              "4      Closed Lost                  2018-02-01\n",
              "5      Closed Lost                  2018-02-01\n",
              "6      Closed Lost                  2017-02-01\n",
              "...            ...                         ...\n",
              "16938  Closed Lost                  2016-08-15\n",
              "16940  Closed Lost                  2016-10-03\n",
              "16941  Closed Lost                  2016-10-03\n",
              "16945  Closed Lost                  2016-04-25\n",
              "16946  Closed Lost                  2016-07-01\n",
              "\n",
              "[7350 rows x 2 columns]"
            ]
          },
          "metadata": {
            "tags": []
          },
          "execution_count": 12
        }
      ]
    },
    {
      "cell_type": "code",
      "metadata": {
        "id": "AaSal8g_X8yp",
        "outputId": "4d286243-009c-4114-87d2-0cffbfec2ca9",
        "colab": {
          "base_uri": "https://localhost:8080/",
          "height": 317
        }
      },
      "source": [
        "#Grafico los fracasos en el tiempo\n",
        "\n",
        "g = sns.kdeplot(df_fracaso[\"Planned_Delivery_Start_Date\"])\n",
        "g.set_title(\"Densidad de casos de fracasos en el tiempo\", fontsize=14)\n",
        "g.set_xlabel(\"Fecha estimada minima de entrega\", fontsize=14)\n",
        "g.set_ylabel(\"Densidad\", fontsize=14)"
      ],
      "execution_count": null,
      "outputs": [
        {
          "output_type": "execute_result",
          "data": {
            "text/plain": [
              "Text(0, 0.5, 'Densidad')"
            ]
          },
          "metadata": {
            "tags": []
          },
          "execution_count": 13
        },
        {
          "output_type": "display_data",
          "data": {
            "image/png": "[encoded data removed]",
            "text/plain": [
              "<Figure size 432x288 with 1 Axes>"
            ]
          },
          "metadata": {
            "tags": [],
            "needs_background": "light"
          }
        }
      ]
    },
    {
      "cell_type": "code",
      "metadata": {
        "id": "yp40H_TLmIPs",
        "outputId": "f62525a0-d259-4f02-f89f-c0c7631b5062",
        "colab": {
          "base_uri": "https://localhost:8080/",
          "height": 136
        }
      },
      "source": [
        "#Tambien quiero explorar como se distribuyen los exitos por cada Region.\n",
        "\n",
        "df_region = df_frio_frio[['Stage','Region']] #dejo solo las columas que me interesan\n",
        "\n",
        "exitos_region = df_region[df_region['Stage'] == 'Closed Won']  #dejo solo los closed won\n",
        "exitos_region = exitos_region.groupby('Region').size() \n",
        "exitos_region"
      ],
      "execution_count": null,
      "outputs": [
        {
          "output_type": "execute_result",
          "data": {
            "text/plain": [
              "Region\n",
              "APAC           1896\n",
              "Americas       1793\n",
              "EMEA           2471\n",
              "Japan          3323\n",
              "Middle East      50\n",
              "dtype: int64"
            ]
          },
          "metadata": {
            "tags": []
          },
          "execution_count": 14
        }
      ]
    },
    {
      "cell_type": "code",
      "metadata": {
        "id": "qnua-YG8mIXZ",
        "outputId": "d9d1e65d-7b5c-4244-ce1f-9f45a1d965cc",
        "colab": {
          "base_uri": "https://localhost:8080/",
          "height": 364
        }
      },
      "source": [
        "g = exitos_region.nsmallest().plot.bar()\n",
        "g.set_title(\"Exitos por región\")\n",
        "g.set_xlabel(\"Region\", fontsize=14)\n",
        "g.set_ylabel(\"Cantidad éxitos\", fontsize=14)\n"
      ],
      "execution_count": null,
      "outputs": [
        {
          "output_type": "execute_result",
          "data": {
            "text/plain": [
              "Text(0, 0.5, 'Cantidad éxitos')"
            ]
          },
          "metadata": {
            "tags": []
          },
          "execution_count": 15
        },
        {
          "output_type": "display_data",
          "data": {
            "image/png": "[encoded data removed]",
            "text/plain": [
              "<Figure size 432x288 with 1 Axes>"
            ]
          },
          "metadata": {
            "tags": [],
            "needs_background": "light"
          }
        }
      ]
    },
    {
      "cell_type": "code",
      "metadata": {
        "id": "ZrDP22ZpmIZx",
        "outputId": "3ddb1c89-a8e2-46c6-9c45-3f38dd10335c",
        "colab": {
          "base_uri": "https://localhost:8080/",
          "height": 136
        }
      },
      "source": [
        "#Ahora hago lo mismo pero con los fracasos por cada Region.\n",
        "\n",
        "fracasos_region = df_region[df_region['Stage'] == 'Closed Lost']  #dejo solo los closed lost\n",
        "fracasos_region = fracasos_region.groupby('Region').size() \n",
        "fracasos_region"
      ],
      "execution_count": null,
      "outputs": [
        {
          "output_type": "execute_result",
          "data": {
            "text/plain": [
              "Region\n",
              "APAC           1355\n",
              "Americas       2140\n",
              "EMEA           2189\n",
              "Japan          1546\n",
              "Middle East     120\n",
              "dtype: int64"
            ]
          },
          "metadata": {
            "tags": []
          },
          "execution_count": 16
        }
      ]
    },
    {
      "cell_type": "code",
      "metadata": {
        "id": "QsgPMjJRmIcK",
        "outputId": "73e529d1-27f1-4f83-c591-cbaefd47cd83",
        "colab": {
          "base_uri": "https://localhost:8080/",
          "height": 364
        }
      },
      "source": [
        "g = fracasos_region.nsmallest().plot.bar()\n",
        "g.set_title(\"Fracasos por región\")\n",
        "g.set_xlabel(\"Region\", fontsize=14)\n",
        "g.set_ylabel(\"Cantidad fracasos\", fontsize=14)\n"
      ],
      "execution_count": null,
      "outputs": [
        {
          "output_type": "execute_result",
          "data": {
            "text/plain": [
              "Text(0, 0.5, 'Cantidad fracasos')"
            ]
          },
          "metadata": {
            "tags": []
          },
          "execution_count": 17
        },
        {
          "output_type": "display_data",
          "data": {
            "image/png": "[encoded data removed]",
            "text/plain": [
              "<Figure size 432x288 with 1 Axes>"
            ]
          },
          "metadata": {
            "tags": [],
            "needs_background": "light"
          }
        }
      ]
    },
    {
      "cell_type": "code",
      "metadata": {
        "id": "UOMj8wdnmIeY",
        "outputId": "6a0f36aa-3105-4e2f-9b55-86fb1ddee404",
        "colab": {
          "base_uri": "https://localhost:8080/",
          "height": 419
        }
      },
      "source": [
        "#Nos interesa saber si el precio es un factor determinante a la hora de cerrar una venta.\n",
        "#Para eso analizaremos como se distribuyen los exitos y los fracasos en función de la variación de precio.\n",
        "\n",
        "stage_precio = df_frio_frio[['ID','Stage','Total_Amount','Total_Amount_Currency', 'Opportunity_ID']]\n",
        "stage_precio"
      ],
      "execution_count": null,
      "outputs": [
        {
          "output_type": "execute_result",
          "data": {
            "text/html": [
              "<div>\n",
              "<style scoped>\n",
              "    .dataframe tbody tr th:only-of-type {\n",
              "        vertical-align: middle;\n",
              "    }\n",
              "\n",
              "    .dataframe tbody tr th {\n",
              "        vertical-align: top;\n",
              "    }\n",
              "\n",
              "    .dataframe thead th {\n",
              "        text-align: right;\n",
              "    }\n",
              "</style>\n",
              "<table border=\"1\" class=\"dataframe\">\n",
              "  <thead>\n",
              "    <tr style=\"text-align: right;\">\n",
              "      <th></th>\n",
              "      <th>ID</th>\n",
              "      <th>Stage</th>\n",
              "      <th>Total_Amount</th>\n",
              "      <th>Total_Amount_Currency</th>\n",
              "      <th>Opportunity_ID</th>\n",
              "    </tr>\n",
              "  </thead>\n",
              "  <tbody>\n",
              "    <tr>\n",
              "      <th>0</th>\n",
              "      <td>27761</td>\n",
              "      <td>Closed Lost</td>\n",
              "      <td>5272800.00</td>\n",
              "      <td>EUR</td>\n",
              "      <td>0</td>\n",
              "    </tr>\n",
              "    <tr>\n",
              "      <th>1</th>\n",
              "      <td>27760</td>\n",
              "      <td>Closed Won</td>\n",
              "      <td>48230.00</td>\n",
              "      <td>EUR</td>\n",
              "      <td>1</td>\n",
              "    </tr>\n",
              "    <tr>\n",
              "      <th>2</th>\n",
              "      <td>27446</td>\n",
              "      <td>Closed Won</td>\n",
              "      <td>83865.60</td>\n",
              "      <td>USD</td>\n",
              "      <td>2</td>\n",
              "    </tr>\n",
              "    <tr>\n",
              "      <th>3</th>\n",
              "      <td>16808</td>\n",
              "      <td>Closed Lost</td>\n",
              "      <td>7421881.50</td>\n",
              "      <td>USD</td>\n",
              "      <td>3</td>\n",
              "    </tr>\n",
              "    <tr>\n",
              "      <th>4</th>\n",
              "      <td>16805</td>\n",
              "      <td>Closed Lost</td>\n",
              "      <td>13357192.50</td>\n",
              "      <td>USD</td>\n",
              "      <td>4</td>\n",
              "    </tr>\n",
              "    <tr>\n",
              "      <th>...</th>\n",
              "      <td>...</td>\n",
              "      <td>...</td>\n",
              "      <td>...</td>\n",
              "      <td>...</td>\n",
              "      <td>...</td>\n",
              "    </tr>\n",
              "    <tr>\n",
              "      <th>16942</th>\n",
              "      <td>8781</td>\n",
              "      <td>Closed Won</td>\n",
              "      <td>103350.00</td>\n",
              "      <td>EUR</td>\n",
              "      <td>12801</td>\n",
              "    </tr>\n",
              "    <tr>\n",
              "      <th>16943</th>\n",
              "      <td>8786</td>\n",
              "      <td>Closed Won</td>\n",
              "      <td>93015.00</td>\n",
              "      <td>EUR</td>\n",
              "      <td>12801</td>\n",
              "    </tr>\n",
              "    <tr>\n",
              "      <th>16944</th>\n",
              "      <td>8792</td>\n",
              "      <td>Closed Won</td>\n",
              "      <td>103350.00</td>\n",
              "      <td>EUR</td>\n",
              "      <td>12801</td>\n",
              "    </tr>\n",
              "    <tr>\n",
              "      <th>16945</th>\n",
              "      <td>28561</td>\n",
              "      <td>Closed Lost</td>\n",
              "      <td>2346796.88</td>\n",
              "      <td>USD</td>\n",
              "      <td>12802</td>\n",
              "    </tr>\n",
              "    <tr>\n",
              "      <th>16946</th>\n",
              "      <td>28318</td>\n",
              "      <td>Closed Lost</td>\n",
              "      <td>25603200.00</td>\n",
              "      <td>USD</td>\n",
              "      <td>12803</td>\n",
              "    </tr>\n",
              "  </tbody>\n",
              "</table>\n",
              "<p>16947 rows × 5 columns</p>\n",
              "</div>"
            ],
            "text/plain": [
              "          ID        Stage  Total_Amount Total_Amount_Currency  Opportunity_ID\n",
              "0      27761  Closed Lost    5272800.00                   EUR               0\n",
              "1      27760   Closed Won      48230.00                   EUR               1\n",
              "2      27446   Closed Won      83865.60                   USD               2\n",
              "3      16808  Closed Lost    7421881.50                   USD               3\n",
              "4      16805  Closed Lost   13357192.50                   USD               4\n",
              "...      ...          ...           ...                   ...             ...\n",
              "16942   8781   Closed Won     103350.00                   EUR           12801\n",
              "16943   8786   Closed Won      93015.00                   EUR           12801\n",
              "16944   8792   Closed Won     103350.00                   EUR           12801\n",
              "16945  28561  Closed Lost    2346796.88                   USD           12802\n",
              "16946  28318  Closed Lost   25603200.00                   USD           12803\n",
              "\n",
              "[16947 rows x 5 columns]"
            ]
          },
          "metadata": {
            "tags": []
          },
          "execution_count": 14
        }
      ]
    },
    {
      "cell_type": "code",
      "metadata": {
        "id": "rj2J35FdmpGR",
        "outputId": "e38de927-b28e-4498-ef45-8a97a7bebf81",
        "colab": {
          "base_uri": "https://localhost:8080/",
          "height": 68
        }
      },
      "source": [
        "#No nos sirve en diferentes monedas, conviene convertir todo a dolares.\n",
        "#Que monedas hay en el df?\n",
        "stage_precio['Total_Amount_Currency'].values\n"
      ],
      "execution_count": null,
      "outputs": [
        {
          "output_type": "execute_result",
          "data": {
            "text/plain": [
              "['EUR', 'EUR', 'USD', 'USD', 'USD', ..., 'EUR', 'EUR', 'EUR', 'USD', 'USD']\n",
              "Length: 16947\n",
              "Categories (5, object): ['AUD', 'EUR', 'GBP', 'JPY', 'USD']"
            ]
          },
          "metadata": {
            "tags": []
          },
          "execution_count": 15
        }
      ]
    },
    {
      "cell_type": "code",
      "metadata": {
        "id": "UY5zNq_ImpQ1"
      },
      "source": [
        "# Vemos que las monedas son [AUD, EUR, GBP, JPY, USD]\n",
        "# Vamos a trabajar en Dolares (USD), usando https://themoneyconverter.com/ES/ al 13/10/2020 obtenemos:\n",
        "change_USD = 1 #1 dolar EEUU = 1 dolar EEUU\n",
        "change_EUR = 1.1745 #1 euro = 1,1745 dolares EEUU\n",
        "change_AUD = 0.71601 # 1 dolar australiano = 0.71601 dolar EEUU\n",
        "change_JPY = 0.0094800 # 1 yen japones = 0,0094800 dolares EEUU\n",
        "change_GBP = 1.935 # 1 libra esterlina = 1,2935 dolares EEUU\n",
        "# Suponemos que la moneda de ninguno de estos paises o zonas (Estados Unidos, Japon, La Unión Europea, Gran Bretaña, \n",
        "# Australia) tuvo una inflación/deflación suficientemente significativa por lo cual el tipo de cambio utilizado es\n",
        "# representativo a pesar de haber sufrido ligeras variaciones en los años que aparecen en la tabla."
      ],
      "execution_count": null,
      "outputs": []
    },
    {
      "cell_type": "code",
      "metadata": {
        "id": "gBXJUTWnmpaB"
      },
      "source": [
        "#filtramos los datos por moneda\n",
        "filtro_USD = stage_precio['Total_Amount_Currency'] == 'USD'\n",
        "filtro_EUR = stage_precio['Total_Amount_Currency'] == 'EUR'\n",
        "filtro_AUD = stage_precio['Total_Amount_Currency'] == 'AUD'\n",
        "filtro_JPY = stage_precio['Total_Amount_Currency'] == 'JPY'\n",
        "filtro_GBP = stage_precio['Total_Amount_Currency'] == 'GBP'"
      ],
      "execution_count": null,
      "outputs": []
    },
    {
      "cell_type": "code",
      "metadata": {
        "id": "X2sdRldpmpfZ"
      },
      "source": [
        "#creamos una df separando por moneda\n",
        "df_USD = stage_precio[filtro_USD]\n",
        "df_EUR = stage_precio[filtro_EUR]\n",
        "df_AUD = stage_precio[filtro_AUD]\n",
        "df_JPY = stage_precio[filtro_JPY]\n",
        "df_GBP = stage_precio[filtro_GBP]\n"
      ],
      "execution_count": null,
      "outputs": []
    },
    {
      "cell_type": "code",
      "metadata": {
        "id": "0eP2v6Xpmpdh",
        "outputId": "04c538d0-2c2e-4005-fdf1-90dd2864ecbe",
        "colab": {
          "base_uri": "https://localhost:8080/",
          "height": 119
        }
      },
      "source": [
        "#aplicamos los cambios de moneda\n",
        "\n",
        "df_USD.loc[:, 'Total_Amount'] = df_USD['Total_Amount']*change_USD\n",
        "df_EUR.loc[:, 'Total_Amount'] = df_EUR['Total_Amount']*change_EUR\n",
        "df_AUD.loc[:, 'Total_Amount'] = df_AUD['Total_Amount']*change_AUD\n",
        "df_JPY.loc[:, 'Total_Amount'] = df_JPY['Total_Amount']*change_JPY\n",
        "df_GBP.loc[:, 'Total_Amount'] = df_GBP['Total_Amount']*change_GBP\n",
        "\n",
        "#Ahora uno los data frames con los cambios hechos\n",
        "df_changed = df_USD.append(df_EUR).append(df_AUD).append(df_JPY).append(df_GBP).drop(['Total_Amount_Currency'], axis=1)"
      ],
      "execution_count": null,
      "outputs": [
        {
          "output_type": "stream",
          "text": [
            "/usr/local/lib/python3.6/dist-packages/pandas/core/indexing.py:1745: SettingWithCopyWarning: \n",
            "A value is trying to be set on a copy of a slice from a DataFrame.\n",
            "Try using .loc[row_indexer,col_indexer] = value instead\n",
            "\n",
            "See the caveats in the documentation: https://pandas.pydata.org/pandas-docs/stable/user_guide/indexing.html#returning-a-view-versus-a-copy\n",
            "  isetter(ilocs[0], value)\n"
          ],
          "name": "stderr"
        }
      ]
    },
    {
      "cell_type": "code",
      "metadata": {
        "id": "chq41FaCmpYd"
      },
      "source": [
        "df_changed_exitos = df_changed[df_changed['Stage'] == 'Closed Won']\n",
        "agrupado_por_op_ID = df_changed_exitos.groupby('Opportunity_ID').agg({'Total_Amount' : 'sum'})\n",
        "agrupado_por_op_ID = agrupado_por_op_ID.reset_index()"
      ],
      "execution_count": null,
      "outputs": []
    },
    {
      "cell_type": "code",
      "metadata": {
        "id": "81LqkFK2Ao0v",
        "outputId": "8cbed473-7a63-4788-a6c7-acd83f107e68",
        "colab": {
          "base_uri": "https://localhost:8080/",
          "height": 419
        }
      },
      "source": [
        "agrupado_por_total_amount = agrupado_por_op_ID.groupby('Total_Amount').agg({'Opportunity_ID' : 'count'})\n",
        "agrupado_por_total_amount.columns = ['Cantidad_de_ventas_por_precio']\n",
        "agrupado_por_total_amount = agrupado_por_total_amount.reset_index()\n",
        "agrupado_por_total_amount"
      ],
      "execution_count": null,
      "outputs": [
        {
          "output_type": "execute_result",
          "data": {
            "text/html": [
              "<div>\n",
              "<style scoped>\n",
              "    .dataframe tbody tr th:only-of-type {\n",
              "        vertical-align: middle;\n",
              "    }\n",
              "\n",
              "    .dataframe tbody tr th {\n",
              "        vertical-align: top;\n",
              "    }\n",
              "\n",
              "    .dataframe thead th {\n",
              "        text-align: right;\n",
              "    }\n",
              "</style>\n",
              "<table border=\"1\" class=\"dataframe\">\n",
              "  <thead>\n",
              "    <tr style=\"text-align: right;\">\n",
              "      <th></th>\n",
              "      <th>Total_Amount</th>\n",
              "      <th>Cantidad_de_ventas_por_precio</th>\n",
              "    </tr>\n",
              "  </thead>\n",
              "  <tbody>\n",
              "    <tr>\n",
              "      <th>0</th>\n",
              "      <td>0.000000e+00</td>\n",
              "      <td>5</td>\n",
              "    </tr>\n",
              "    <tr>\n",
              "      <th>1</th>\n",
              "      <td>1.761750e-01</td>\n",
              "      <td>1</td>\n",
              "    </tr>\n",
              "    <tr>\n",
              "      <th>2</th>\n",
              "      <td>9.954000e+00</td>\n",
              "      <td>1</td>\n",
              "    </tr>\n",
              "    <tr>\n",
              "      <th>3</th>\n",
              "      <td>4.171200e+01</td>\n",
              "      <td>2</td>\n",
              "    </tr>\n",
              "    <tr>\n",
              "      <th>4</th>\n",
              "      <td>5.688000e+01</td>\n",
              "      <td>8</td>\n",
              "    </tr>\n",
              "    <tr>\n",
              "      <th>...</th>\n",
              "      <td>...</td>\n",
              "      <td>...</td>\n",
              "    </tr>\n",
              "    <tr>\n",
              "      <th>3971</th>\n",
              "      <td>2.362878e+07</td>\n",
              "      <td>1</td>\n",
              "    </tr>\n",
              "    <tr>\n",
              "      <th>3972</th>\n",
              "      <td>2.454489e+07</td>\n",
              "      <td>1</td>\n",
              "    </tr>\n",
              "    <tr>\n",
              "      <th>3973</th>\n",
              "      <td>3.105361e+07</td>\n",
              "      <td>1</td>\n",
              "    </tr>\n",
              "    <tr>\n",
              "      <th>3974</th>\n",
              "      <td>4.183522e+07</td>\n",
              "      <td>1</td>\n",
              "    </tr>\n",
              "    <tr>\n",
              "      <th>3975</th>\n",
              "      <td>5.159906e+07</td>\n",
              "      <td>1</td>\n",
              "    </tr>\n",
              "  </tbody>\n",
              "</table>\n",
              "<p>3976 rows × 2 columns</p>\n",
              "</div>"
            ],
            "text/plain": [
              "      Total_Amount  Cantidad_de_ventas_por_precio\n",
              "0     0.000000e+00                              5\n",
              "1     1.761750e-01                              1\n",
              "2     9.954000e+00                              1\n",
              "3     4.171200e+01                              2\n",
              "4     5.688000e+01                              8\n",
              "...            ...                            ...\n",
              "3971  2.362878e+07                              1\n",
              "3972  2.454489e+07                              1\n",
              "3973  3.105361e+07                              1\n",
              "3974  4.183522e+07                              1\n",
              "3975  5.159906e+07                              1\n",
              "\n",
              "[3976 rows x 2 columns]"
            ]
          },
          "metadata": {
            "tags": []
          },
          "execution_count": 25
        }
      ]
    },
    {
      "cell_type": "code",
      "metadata": {
        "id": "mvIKfHzGmpWe",
        "outputId": "5c57bbd1-9ffa-4e85-a1b4-5b786d2b3e92",
        "colab": {
          "base_uri": "https://localhost:8080/",
          "height": 316
        }
      },
      "source": [
        "# Finalmente obvtuvimos un data frame con los precios en dolares y el estado final de la ventas\n",
        "# Ahora podemos observar si los precios mas altos tienen mas ventas fallidas.\n",
        "# Primero graficamos las ventas exitosas y despues veremos las fallidas\n",
        "\n",
        "# sns.set(rc={'figure.figsize':(11.7,8.27)})  #para cambiar el tamaño de los gráficos de seaborn. No lo hagan porque no queda bien la escala\n",
        "\n",
        "g = sns.scatterplot(x=\"Total_Amount\", y=\"Cantidad_de_ventas_por_precio\", data=agrupado_por_total_amount, sizes=(80, 400))\n",
        "g.set_title(\"Exitos por precio\")\n",
        "g.set_xlabel(\"Precio en dolares\", fontsize=14)\n",
        "g.set_ylabel(\"Ventas exitosas\", fontsize=14)"
      ],
      "execution_count": null,
      "outputs": [
        {
          "output_type": "execute_result",
          "data": {
            "text/plain": [
              "Text(0, 0.5, 'Ventas exitosas')"
            ]
          },
          "metadata": {
            "tags": []
          },
          "execution_count": 26
        },
        {
          "output_type": "display_data",
          "data": {
            "image/png": "[encoded data removed]",
            "text/plain": [
              "<Figure size 432x288 with 1 Axes>"
            ]
          },
          "metadata": {
            "tags": [],
            "needs_background": "light"
          }
        }
      ]
    },
    {
      "cell_type": "code",
      "metadata": {
        "id": "6AZJlO5KyP01",
        "outputId": "d879ba67-221d-4ef8-fb07-684ac14c3a9a",
        "colab": {
          "base_uri": "https://localhost:8080/",
          "height": 419
        }
      },
      "source": [
        "df_changed[df_changed['Stage'] == 'Closed Won']"
      ],
      "execution_count": null,
      "outputs": [
        {
          "output_type": "execute_result",
          "data": {
            "text/html": [
              "<div>\n",
              "<style scoped>\n",
              "    .dataframe tbody tr th:only-of-type {\n",
              "        vertical-align: middle;\n",
              "    }\n",
              "\n",
              "    .dataframe tbody tr th {\n",
              "        vertical-align: top;\n",
              "    }\n",
              "\n",
              "    .dataframe thead th {\n",
              "        text-align: right;\n",
              "    }\n",
              "</style>\n",
              "<table border=\"1\" class=\"dataframe\">\n",
              "  <thead>\n",
              "    <tr style=\"text-align: right;\">\n",
              "      <th></th>\n",
              "      <th>ID</th>\n",
              "      <th>Stage</th>\n",
              "      <th>Total_Amount</th>\n",
              "      <th>Opportunity_ID</th>\n",
              "    </tr>\n",
              "  </thead>\n",
              "  <tbody>\n",
              "    <tr>\n",
              "      <th>2</th>\n",
              "      <td>27446</td>\n",
              "      <td>Closed Won</td>\n",
              "      <td>8.386560e+04</td>\n",
              "      <td>2</td>\n",
              "    </tr>\n",
              "    <tr>\n",
              "      <th>7</th>\n",
              "      <td>27455</td>\n",
              "      <td>Closed Won</td>\n",
              "      <td>5.068800e+04</td>\n",
              "      <td>7</td>\n",
              "    </tr>\n",
              "    <tr>\n",
              "      <th>23</th>\n",
              "      <td>28524</td>\n",
              "      <td>Closed Won</td>\n",
              "      <td>1.621851e+06</td>\n",
              "      <td>11</td>\n",
              "    </tr>\n",
              "    <tr>\n",
              "      <th>64</th>\n",
              "      <td>19342</td>\n",
              "      <td>Closed Won</td>\n",
              "      <td>3.184974e+06</td>\n",
              "      <td>21</td>\n",
              "    </tr>\n",
              "    <tr>\n",
              "      <th>77</th>\n",
              "      <td>4937</td>\n",
              "      <td>Closed Won</td>\n",
              "      <td>3.920000e+03</td>\n",
              "      <td>29</td>\n",
              "    </tr>\n",
              "    <tr>\n",
              "      <th>...</th>\n",
              "      <td>...</td>\n",
              "      <td>...</td>\n",
              "      <td>...</td>\n",
              "      <td>...</td>\n",
              "    </tr>\n",
              "    <tr>\n",
              "      <th>16919</th>\n",
              "      <td>21317</td>\n",
              "      <td>Closed Won</td>\n",
              "      <td>3.054627e+04</td>\n",
              "      <td>12784</td>\n",
              "    </tr>\n",
              "    <tr>\n",
              "      <th>16923</th>\n",
              "      <td>27689</td>\n",
              "      <td>Closed Won</td>\n",
              "      <td>1.155991e+05</td>\n",
              "      <td>12786</td>\n",
              "    </tr>\n",
              "    <tr>\n",
              "      <th>16924</th>\n",
              "      <td>27688</td>\n",
              "      <td>Closed Won</td>\n",
              "      <td>1.133761e+05</td>\n",
              "      <td>12787</td>\n",
              "    </tr>\n",
              "    <tr>\n",
              "      <th>16925</th>\n",
              "      <td>19062</td>\n",
              "      <td>Closed Won</td>\n",
              "      <td>1.662508e+05</td>\n",
              "      <td>12788</td>\n",
              "    </tr>\n",
              "    <tr>\n",
              "      <th>16926</th>\n",
              "      <td>19066</td>\n",
              "      <td>Closed Won</td>\n",
              "      <td>1.313928e+05</td>\n",
              "      <td>12789</td>\n",
              "    </tr>\n",
              "  </tbody>\n",
              "</table>\n",
              "<p>9533 rows × 4 columns</p>\n",
              "</div>"
            ],
            "text/plain": [
              "          ID       Stage  Total_Amount  Opportunity_ID\n",
              "2      27446  Closed Won  8.386560e+04               2\n",
              "7      27455  Closed Won  5.068800e+04               7\n",
              "23     28524  Closed Won  1.621851e+06              11\n",
              "64     19342  Closed Won  3.184974e+06              21\n",
              "77      4937  Closed Won  3.920000e+03              29\n",
              "...      ...         ...           ...             ...\n",
              "16919  21317  Closed Won  3.054627e+04           12784\n",
              "16923  27689  Closed Won  1.155991e+05           12786\n",
              "16924  27688  Closed Won  1.133761e+05           12787\n",
              "16925  19062  Closed Won  1.662508e+05           12788\n",
              "16926  19066  Closed Won  1.313928e+05           12789\n",
              "\n",
              "[9533 rows x 4 columns]"
            ]
          },
          "metadata": {
            "tags": []
          },
          "execution_count": 27
        }
      ]
    },
    {
      "cell_type": "code",
      "metadata": {
        "id": "jWtLLFMfmpUD",
        "outputId": "d7055d00-dfda-4cb7-b404-66f737da4282",
        "colab": {
          "base_uri": "https://localhost:8080/",
          "height": 316
        }
      },
      "source": [
        "#Ahora veremos las fallidas\n",
        "\n",
        "precio_fracaso = df_changed[df_changed['Stage'] == 'Closed Lost']  #dejo solo los closed lost\n",
        "agrupado_por_op_ID = precio_fracaso.groupby('Opportunity_ID').agg({'Total_Amount' : 'sum'})\n",
        "agrupado_por_op_ID = agrupado_por_op_ID.reset_index()\n",
        "\n",
        "agrupado_por_total_amount = agrupado_por_op_ID.groupby('Total_Amount').agg({'Opportunity_ID' : 'count'})\n",
        "agrupado_por_total_amount.columns = ['Cantidad_de_ventas_por_precio']\n",
        "agrupado_por_total_amount = agrupado_por_total_amount.reset_index()\n",
        "agrupado_por_total_amount\n",
        "\n",
        "#g = sns.scatterplot(x=\"ID\", y=\"Total_Amount\", data=precio_fracaso, color=\"Red\")\n",
        "#g.set_title(\"Fracaso por precio\")\n",
        "#g.set_xlabel(\"Ventas Fracasadas\",fontsize=14)\n",
        "#g.set_ylabel(\"Precio en dolares\",fontsize=14)\n",
        "\n",
        "g = sns.scatterplot(x=\"Total_Amount\", y=\"Cantidad_de_ventas_por_precio\", data=agrupado_por_total_amount, sizes=(80, 400))\n",
        "g.set_title(\"Fracasos por precio\")\n",
        "g.set_xlabel(\"Precio en dolares\",fontsize=14)\n",
        "g.set_ylabel(\"Ventas fracasadas\",fontsize=14)"
      ],
      "execution_count": null,
      "outputs": [
        {
          "output_type": "execute_result",
          "data": {
            "text/plain": [
              "Text(0, 0.5, 'Ventas fracasadas')"
            ]
          },
          "metadata": {
            "tags": []
          },
          "execution_count": 28
        },
        {
          "output_type": "display_data",
          "data": {
            "image/png": "[encoded data removed]",
            "text/plain": [
              "<Figure size 432x288 with 1 Axes>"
            ]
          },
          "metadata": {
            "tags": [],
            "needs_background": "light"
          }
        }
      ]
    },
    {
      "cell_type": "code",
      "metadata": {
        "id": "WjGQraccnDWl"
      },
      "source": [
        "#Los graficos observados no son concluyentes, el exito de la venta no parece depender del precio."
      ],
      "execution_count": null,
      "outputs": []
    },
    {
      "cell_type": "code",
      "metadata": {
        "id": "MG_3AwL6WitO",
        "outputId": "eafc4a38-c250-4c6f-a557-835bfcc4cdcd",
        "colab": {
          "base_uri": "https://localhost:8080/",
          "height": 34
        }
      },
      "source": [
        "# Ver relación entre 'TRF' y 'Product_Name'\n",
        "relacion_producto_potencia = df_frio_frio.groupby('Product_Name').agg({'TRF' : 'value_counts'})\n",
        "relacion_producto_potencia = relacion_producto_potencia.unstack()   # en el índice queda solo el nombre del producto\n",
        "aparece_cada_prod_una_vez = relacion_producto_potencia.index.is_unique\n",
        "aparece_cada_prod_una_vez"
      ],
      "execution_count": null,
      "outputs": [
        {
          "output_type": "execute_result",
          "data": {
            "text/plain": [
              "True"
            ]
          },
          "metadata": {
            "tags": []
          },
          "execution_count": 30
        }
      ]
    },
    {
      "cell_type": "code",
      "metadata": {
        "id": "-BRm_NWSeSyr",
        "outputId": "4f561852-b447-459c-c60a-f59ea65c0757",
        "colab": {
          "base_uri": "https://localhost:8080/",
          "height": 326
        }
      },
      "source": [
        "df_frio_frio.head()"
      ],
      "execution_count": null,
      "outputs": [
        {
          "output_type": "execute_result",
          "data": {
            "text/html": [
              "<div>\n",
              "<style scoped>\n",
              "    .dataframe tbody tr th:only-of-type {\n",
              "        vertical-align: middle;\n",
              "    }\n",
              "\n",
              "    .dataframe tbody tr th {\n",
              "        vertical-align: top;\n",
              "    }\n",
              "\n",
              "    .dataframe thead th {\n",
              "        text-align: right;\n",
              "    }\n",
              "</style>\n",
              "<table border=\"1\" class=\"dataframe\">\n",
              "  <thead>\n",
              "    <tr style=\"text-align: right;\">\n",
              "      <th></th>\n",
              "      <th>ID</th>\n",
              "      <th>Region</th>\n",
              "      <th>Territory</th>\n",
              "      <th>Pricing, Delivery_Terms_Quote_Appr</th>\n",
              "      <th>Pricing, Delivery_Terms_Approved</th>\n",
              "      <th>Bureaucratic_Code_0_Approval</th>\n",
              "      <th>Bureaucratic_Code_0_Approved</th>\n",
              "      <th>Bureaucratic_Code</th>\n",
              "      <th>Account_Created_Date</th>\n",
              "      <th>Source</th>\n",
              "      <th>Billing_Country</th>\n",
              "      <th>Account_Name</th>\n",
              "      <th>Opportunity_Name</th>\n",
              "      <th>Opportunity_ID</th>\n",
              "      <th>Sales_Contract_No</th>\n",
              "      <th>Account_Owner</th>\n",
              "      <th>Opportunity_Owner</th>\n",
              "      <th>Account_Type</th>\n",
              "      <th>Opportunity_Type</th>\n",
              "      <th>Quote_Type</th>\n",
              "      <th>Delivery_Terms</th>\n",
              "      <th>Opportunity_Created_Date</th>\n",
              "      <th>Quote_Expiry_Date</th>\n",
              "      <th>Last_Modified_Date</th>\n",
              "      <th>Last_Modified_By</th>\n",
              "      <th>Product_Family</th>\n",
              "      <th>Product_Name</th>\n",
              "      <th>ASP_Currency</th>\n",
              "      <th>ASP</th>\n",
              "      <th>ASP_(converted_USD)</th>\n",
              "      <th>Planned_Delivery_Start_Date</th>\n",
              "      <th>Planned_Delivery_End_Date</th>\n",
              "      <th>Month</th>\n",
              "      <th>Delivery_Quarter</th>\n",
              "      <th>Delivery_Year</th>\n",
              "      <th>TRF</th>\n",
              "      <th>Total_Amount_Currency</th>\n",
              "      <th>Total_Amount</th>\n",
              "      <th>Total_Taxable_Amount_Currency</th>\n",
              "      <th>Total_Taxable_Amount</th>\n",
              "      <th>Stage</th>\n",
              "    </tr>\n",
              "  </thead>\n",
              "  <tbody>\n",
              "    <tr>\n",
              "      <th>0</th>\n",
              "      <td>27761</td>\n",
              "      <td>EMEA</td>\n",
              "      <td>None</td>\n",
              "      <td>1</td>\n",
              "      <td>1</td>\n",
              "      <td>1</td>\n",
              "      <td>1</td>\n",
              "      <td>Bureaucratic_Code_4</td>\n",
              "      <td>2015-06-16</td>\n",
              "      <td>None</td>\n",
              "      <td>Netherlands</td>\n",
              "      <td>Account_Name_619</td>\n",
              "      <td>Opportunity_Name_12598</td>\n",
              "      <td>0</td>\n",
              "      <td>NaN</td>\n",
              "      <td>Person_Name_51</td>\n",
              "      <td>Person_Name_18</td>\n",
              "      <td>Account_Type_2</td>\n",
              "      <td>Opportunity_Type_1</td>\n",
              "      <td>Non Binding</td>\n",
              "      <td>Delivery_Terms_2</td>\n",
              "      <td>2015-12-07</td>\n",
              "      <td>2016-01-30</td>\n",
              "      <td>2016-06-13</td>\n",
              "      <td>Person_Name_18</td>\n",
              "      <td>Product_Family_77</td>\n",
              "      <td>Product_Name_99</td>\n",
              "      <td>EUR</td>\n",
              "      <td>0.52</td>\n",
              "      <td>0.58817</td>\n",
              "      <td>2016-05-01</td>\n",
              "      <td>2016-06-30</td>\n",
              "      <td>5</td>\n",
              "      <td>Q2</td>\n",
              "      <td>2016</td>\n",
              "      <td>10</td>\n",
              "      <td>EUR</td>\n",
              "      <td>5272800.0</td>\n",
              "      <td>EUR</td>\n",
              "      <td>5272800.0</td>\n",
              "      <td>Closed Lost</td>\n",
              "    </tr>\n",
              "    <tr>\n",
              "      <th>1</th>\n",
              "      <td>27760</td>\n",
              "      <td>EMEA</td>\n",
              "      <td>None</td>\n",
              "      <td>0</td>\n",
              "      <td>0</td>\n",
              "      <td>0</td>\n",
              "      <td>0</td>\n",
              "      <td>Bureaucratic_Code_4</td>\n",
              "      <td>2015-06-16</td>\n",
              "      <td>None</td>\n",
              "      <td>Netherlands</td>\n",
              "      <td>Account_Name_619</td>\n",
              "      <td>Opportunity_Name_12600</td>\n",
              "      <td>1</td>\n",
              "      <td>39.0</td>\n",
              "      <td>Person_Name_51</td>\n",
              "      <td>Person_Name_20</td>\n",
              "      <td>Account_Type_2</td>\n",
              "      <td>Opportunity_Type_1</td>\n",
              "      <td>Non Binding</td>\n",
              "      <td>Delivery_Terms_2</td>\n",
              "      <td>2015-12-07</td>\n",
              "      <td>2016-01-20</td>\n",
              "      <td>2016-01-15</td>\n",
              "      <td>Person_Name_20</td>\n",
              "      <td>Product_Family_77</td>\n",
              "      <td>Product_Name_100</td>\n",
              "      <td>EUR</td>\n",
              "      <td>0.53</td>\n",
              "      <td>0.59948</td>\n",
              "      <td>2016-01-18</td>\n",
              "      <td>2016-01-20</td>\n",
              "      <td>1</td>\n",
              "      <td>Q1</td>\n",
              "      <td>2016</td>\n",
              "      <td>0</td>\n",
              "      <td>EUR</td>\n",
              "      <td>48230.0</td>\n",
              "      <td>EUR</td>\n",
              "      <td>48230.0</td>\n",
              "      <td>Closed Won</td>\n",
              "    </tr>\n",
              "    <tr>\n",
              "      <th>2</th>\n",
              "      <td>27446</td>\n",
              "      <td>Americas</td>\n",
              "      <td>NW America</td>\n",
              "      <td>0</td>\n",
              "      <td>0</td>\n",
              "      <td>0</td>\n",
              "      <td>0</td>\n",
              "      <td>Bureaucratic_Code_4</td>\n",
              "      <td>2015-04-21</td>\n",
              "      <td>Source_7</td>\n",
              "      <td>United States</td>\n",
              "      <td>Account_Name_1794</td>\n",
              "      <td>Opportunity_Name_469</td>\n",
              "      <td>2</td>\n",
              "      <td>760.0</td>\n",
              "      <td>Person_Name_64</td>\n",
              "      <td>Person_Name_8</td>\n",
              "      <td>Account_Type_5</td>\n",
              "      <td>Opportunity_Type_1</td>\n",
              "      <td>Non Binding</td>\n",
              "      <td>Delivery_Terms_4</td>\n",
              "      <td>2015-12-08</td>\n",
              "      <td>2016-09-30</td>\n",
              "      <td>2016-09-29</td>\n",
              "      <td>Person_Name_8</td>\n",
              "      <td>Product_Family_81</td>\n",
              "      <td>Product_Name_91</td>\n",
              "      <td>USD</td>\n",
              "      <td>0.48</td>\n",
              "      <td>0.48000</td>\n",
              "      <td>2016-01-25</td>\n",
              "      <td>2016-01-25</td>\n",
              "      <td>1</td>\n",
              "      <td>Q1</td>\n",
              "      <td>2016</td>\n",
              "      <td>0</td>\n",
              "      <td>USD</td>\n",
              "      <td>83865.6</td>\n",
              "      <td>USD</td>\n",
              "      <td>83865.6</td>\n",
              "      <td>Closed Won</td>\n",
              "    </tr>\n",
              "    <tr>\n",
              "      <th>3</th>\n",
              "      <td>16808</td>\n",
              "      <td>Americas</td>\n",
              "      <td>NW America</td>\n",
              "      <td>1</td>\n",
              "      <td>0</td>\n",
              "      <td>1</td>\n",
              "      <td>0</td>\n",
              "      <td>Bureaucratic_Code_5</td>\n",
              "      <td>2013-07-27</td>\n",
              "      <td>Source_11</td>\n",
              "      <td>United States</td>\n",
              "      <td>Account_Name_1201</td>\n",
              "      <td>Opportunity_Name_415</td>\n",
              "      <td>3</td>\n",
              "      <td>NaN</td>\n",
              "      <td>Person_Name_8</td>\n",
              "      <td>Person_Name_8</td>\n",
              "      <td>Account_Type_5</td>\n",
              "      <td>Opportunity_Type_19</td>\n",
              "      <td>Non Binding</td>\n",
              "      <td>Delivery_Terms_1</td>\n",
              "      <td>2015-12-08</td>\n",
              "      <td>NaT</td>\n",
              "      <td>2018-03-27</td>\n",
              "      <td>Person_Name_8</td>\n",
              "      <td>Product_Family_209</td>\n",
              "      <td>Product_Name_432</td>\n",
              "      <td>USD</td>\n",
              "      <td>0.53</td>\n",
              "      <td>0.53000</td>\n",
              "      <td>2018-02-01</td>\n",
              "      <td>2018-03-31</td>\n",
              "      <td>2</td>\n",
              "      <td>Q1</td>\n",
              "      <td>2018</td>\n",
              "      <td>14</td>\n",
              "      <td>USD</td>\n",
              "      <td>7421881.5</td>\n",
              "      <td>USD</td>\n",
              "      <td>7421881.5</td>\n",
              "      <td>Closed Lost</td>\n",
              "    </tr>\n",
              "    <tr>\n",
              "      <th>4</th>\n",
              "      <td>16805</td>\n",
              "      <td>Americas</td>\n",
              "      <td>NW America</td>\n",
              "      <td>1</td>\n",
              "      <td>0</td>\n",
              "      <td>1</td>\n",
              "      <td>0</td>\n",
              "      <td>Bureaucratic_Code_5</td>\n",
              "      <td>2013-07-27</td>\n",
              "      <td>Source_11</td>\n",
              "      <td>United States</td>\n",
              "      <td>Account_Name_1201</td>\n",
              "      <td>Opportunity_Name_851</td>\n",
              "      <td>4</td>\n",
              "      <td>NaN</td>\n",
              "      <td>Person_Name_8</td>\n",
              "      <td>Person_Name_8</td>\n",
              "      <td>Account_Type_5</td>\n",
              "      <td>Opportunity_Type_19</td>\n",
              "      <td>Non Binding</td>\n",
              "      <td>Delivery_Terms_1</td>\n",
              "      <td>2015-12-08</td>\n",
              "      <td>2017-06-02</td>\n",
              "      <td>2018-03-27</td>\n",
              "      <td>Person_Name_8</td>\n",
              "      <td>Product_Family_209</td>\n",
              "      <td>Product_Name_432</td>\n",
              "      <td>USD</td>\n",
              "      <td>0.53</td>\n",
              "      <td>0.53000</td>\n",
              "      <td>2018-02-01</td>\n",
              "      <td>2018-02-28</td>\n",
              "      <td>2</td>\n",
              "      <td>Q1</td>\n",
              "      <td>2018</td>\n",
              "      <td>25</td>\n",
              "      <td>USD</td>\n",
              "      <td>13357192.5</td>\n",
              "      <td>USD</td>\n",
              "      <td>13357192.5</td>\n",
              "      <td>Closed Lost</td>\n",
              "    </tr>\n",
              "  </tbody>\n",
              "</table>\n",
              "</div>"
            ],
            "text/plain": [
              "      ID    Region  ... Total_Taxable_Amount        Stage\n",
              "0  27761      EMEA  ...            5272800.0  Closed Lost\n",
              "1  27760      EMEA  ...              48230.0   Closed Won\n",
              "2  27446  Americas  ...              83865.6   Closed Won\n",
              "3  16808  Americas  ...            7421881.5  Closed Lost\n",
              "4  16805  Americas  ...           13357192.5  Closed Lost\n",
              "\n",
              "[5 rows x 41 columns]"
            ]
          },
          "metadata": {
            "tags": []
          },
          "execution_count": 10
        }
      ]
    },
    {
      "cell_type": "code",
      "metadata": {
        "id": "V-eDTMBeeVb2"
      },
      "source": [
        ""
      ],
      "execution_count": 1,
      "outputs": []
    },
    {
      "cell_type": "markdown",
      "metadata": {
        "id": "UTa4kvfVNtVr"
      },
      "source": [
        "Nos interesa saber como estan relacionados el precio de un producto y su potencia. Ademas veremos algunos detalles particulares sobre la potencia de los productos mediante una serie de graficos y calculos."
      ]
    },
    {
      "cell_type": "code",
      "metadata": {
        "id": "1SfToP1BNp2R",
        "outputId": "953c614c-4641-47fe-c2c8-8d44bbc8c666",
        "colab": {
          "base_uri": "https://localhost:8080/",
          "height": 419
        }
      },
      "source": [
        "\n",
        "potenciaXprecio = df_frio_frio[['TRF','Total_Amount']].rename(columns={'TRF': 'Total_Power'}) #Potencia por precio \n",
        "potenciaXprecio "
      ],
      "execution_count": 4,
      "outputs": [
        {
          "output_type": "execute_result",
          "data": {
            "text/html": [
              "<div>\n",
              "<style scoped>\n",
              "    .dataframe tbody tr th:only-of-type {\n",
              "        vertical-align: middle;\n",
              "    }\n",
              "\n",
              "    .dataframe tbody tr th {\n",
              "        vertical-align: top;\n",
              "    }\n",
              "\n",
              "    .dataframe thead th {\n",
              "        text-align: right;\n",
              "    }\n",
              "</style>\n",
              "<table border=\"1\" class=\"dataframe\">\n",
              "  <thead>\n",
              "    <tr style=\"text-align: right;\">\n",
              "      <th></th>\n",
              "      <th>Total_Power</th>\n",
              "      <th>Total_Amount</th>\n",
              "    </tr>\n",
              "  </thead>\n",
              "  <tbody>\n",
              "    <tr>\n",
              "      <th>0</th>\n",
              "      <td>10</td>\n",
              "      <td>5272800.00</td>\n",
              "    </tr>\n",
              "    <tr>\n",
              "      <th>1</th>\n",
              "      <td>0</td>\n",
              "      <td>48230.00</td>\n",
              "    </tr>\n",
              "    <tr>\n",
              "      <th>2</th>\n",
              "      <td>0</td>\n",
              "      <td>83865.60</td>\n",
              "    </tr>\n",
              "    <tr>\n",
              "      <th>3</th>\n",
              "      <td>14</td>\n",
              "      <td>7421881.50</td>\n",
              "    </tr>\n",
              "    <tr>\n",
              "      <th>4</th>\n",
              "      <td>25</td>\n",
              "      <td>13357192.50</td>\n",
              "    </tr>\n",
              "    <tr>\n",
              "      <th>...</th>\n",
              "      <td>...</td>\n",
              "      <td>...</td>\n",
              "    </tr>\n",
              "    <tr>\n",
              "      <th>16942</th>\n",
              "      <td>0</td>\n",
              "      <td>103350.00</td>\n",
              "    </tr>\n",
              "    <tr>\n",
              "      <th>16943</th>\n",
              "      <td>0</td>\n",
              "      <td>93015.00</td>\n",
              "    </tr>\n",
              "    <tr>\n",
              "      <th>16944</th>\n",
              "      <td>0</td>\n",
              "      <td>103350.00</td>\n",
              "    </tr>\n",
              "    <tr>\n",
              "      <th>16945</th>\n",
              "      <td>4</td>\n",
              "      <td>2346796.88</td>\n",
              "    </tr>\n",
              "    <tr>\n",
              "      <th>16946</th>\n",
              "      <td>40</td>\n",
              "      <td>25603200.00</td>\n",
              "    </tr>\n",
              "  </tbody>\n",
              "</table>\n",
              "<p>16947 rows × 2 columns</p>\n",
              "</div>"
            ],
            "text/plain": [
              "       Total_Power  Total_Amount\n",
              "0               10    5272800.00\n",
              "1                0      48230.00\n",
              "2                0      83865.60\n",
              "3               14    7421881.50\n",
              "4               25   13357192.50\n",
              "...            ...           ...\n",
              "16942            0     103350.00\n",
              "16943            0      93015.00\n",
              "16944            0     103350.00\n",
              "16945            4    2346796.88\n",
              "16946           40   25603200.00\n",
              "\n",
              "[16947 rows x 2 columns]"
            ]
          },
          "metadata": {
            "tags": []
          },
          "execution_count": 4
        }
      ]
    },
    {
      "cell_type": "code",
      "metadata": {
        "id": "jdDtsdK4Np9l",
        "outputId": "12196a7e-42bd-433d-c8da-96437d00f385",
        "colab": {
          "base_uri": "https://localhost:8080/"
        }
      },
      "source": [
        "#Notamos que hay muchas filas que tienen potencia cero\n",
        "#No suponemos esto un error, sino que se trata de productos en los que la potencia no aplica.\n",
        "#Por ejemplo: Un aire acondicionado tiene potencia, un soporte para ponerlo en la pared no la tiene.\n",
        "#Nos interesan todas las ventas de la empresa, por lo tanto no removemos aquellas sin potencia.\n",
        "\n",
        "#Antes de graficar, hacemos algunos analisis de la potencia\n",
        "\n",
        "max(potenciaXprecio['Total_Power']) #Potencia Maxima"
      ],
      "execution_count": 5,
      "outputs": [
        {
          "output_type": "execute_result",
          "data": {
            "text/plain": [
              "500"
            ]
          },
          "metadata": {
            "tags": []
          },
          "execution_count": 5
        }
      ]
    },
    {
      "cell_type": "code",
      "metadata": {
        "id": "afXJ9fx9NqCP",
        "outputId": "e20c44a2-847b-41fc-d494-c9f5e50bf040",
        "colab": {
          "base_uri": "https://localhost:8080/"
        }
      },
      "source": [
        "min(potenciaXprecio['Total_Power']) #Potencia Minima"
      ],
      "execution_count": 6,
      "outputs": [
        {
          "output_type": "execute_result",
          "data": {
            "text/plain": [
              "0"
            ]
          },
          "metadata": {
            "tags": []
          },
          "execution_count": 6
        }
      ]
    },
    {
      "cell_type": "code",
      "metadata": {
        "id": "HnpYymGhNqI9",
        "outputId": "bffe630d-9e07-4665-9d7b-d27d2007fbc1",
        "colab": {
          "base_uri": "https://localhost:8080/"
        }
      },
      "source": [
        "(potenciaXprecio['Total_Power']).count() #cantidad de potencias, vemos que no hay nulos"
      ],
      "execution_count": 7,
      "outputs": [
        {
          "output_type": "execute_result",
          "data": {
            "text/plain": [
              "16947"
            ]
          },
          "metadata": {
            "tags": []
          },
          "execution_count": 7
        }
      ]
    },
    {
      "cell_type": "code",
      "metadata": {
        "id": "79ng6KENNqPu",
        "outputId": "39e05923-9af7-4820-d8d8-4a1db6a058ba",
        "colab": {
          "base_uri": "https://localhost:8080/"
        }
      },
      "source": [
        "sum(potenciaXprecio['Total_Power'])/(potenciaXprecio['Total_Power']).count() #promedio de potencia"
      ],
      "execution_count": 8,
      "outputs": [
        {
          "output_type": "execute_result",
          "data": {
            "text/plain": [
              "2.3381719478373753"
            ]
          },
          "metadata": {
            "tags": []
          },
          "execution_count": 8
        }
      ]
    },
    {
      "cell_type": "code",
      "metadata": {
        "id": "d0_U7SsmNqNl",
        "outputId": "cc146c78-eaa9-47c4-d88e-aa8832dc4e5c",
        "colab": {
          "base_uri": "https://localhost:8080/",
          "height": 316
        }
      },
      "source": [
        "#Graficamos en un scatter plot la potencia por precio\n",
        "\n",
        "g = sns.scatterplot(x=\"Total_Power\", y=\"Total_Amount\", data=potenciaXprecio, sizes=(80, 400))\n",
        "g.set_title(\"Potencia por precio\")\n",
        "g.set_xlabel(\"Potencia en KWh\", fontsize=14)\n",
        "g.set_ylabel(\"Precio total\", fontsize=14)"
      ],
      "execution_count": 10,
      "outputs": [
        {
          "output_type": "execute_result",
          "data": {
            "text/plain": [
              "Text(0, 0.5, 'Precio total')"
            ]
          },
          "metadata": {
            "tags": []
          },
          "execution_count": 10
        },
        {
          "output_type": "display_data",
          "data": {
            "image/png": "[encoded data removed]",
            "text/plain": [
              "<Figure size 432x288 with 1 Axes>"
            ]
          },
          "metadata": {
            "tags": [],
            "needs_background": "light"
          }
        }
      ]
    },
    {
      "cell_type": "markdown",
      "metadata": {
        "id": "IdnQtB5lOGay"
      },
      "source": [
        "### De esta visualización podemos inferir que en lineas generales, los productos aumentan su precio segun la potencia. Es decir a mayor potencia, mayor precio. Tambien vemos que la mayor cantidad de ventas se agrupan en torno a una potencia de hasta 200 KWh, siendo su punto de mayor densidad el de 0 KWh. El aumento visualizado es practicamente lineal.\n",
        "### Sin embargo tambien notamos ciertos productos de relativa baja potencia con precios muy altos. Analizaremos luego este caso, para ver que esta ocurriendo.\n"
      ]
    },
    {
      "cell_type": "code",
      "metadata": {
        "id": "yNxflA5TNqMP",
        "outputId": "18049654-295a-4da0-d3dc-bf5bc829eda4",
        "colab": {
          "base_uri": "https://localhost:8080/",
          "height": 419
        }
      },
      "source": [
        "#Antes nos interesaria saber algunos datos solamente de los productos que tienen potencia. Para ello removemos los productos\n",
        "#con potencia 0\n",
        "\n",
        "filtro_potencia = potenciaXprecio['Total_Power'] > 0\n",
        "potenciaXprecio_sinceros = potenciaXprecio[filtro_potencia]\n",
        "potenciaXprecio_sinceros"
      ],
      "execution_count": 11,
      "outputs": [
        {
          "output_type": "execute_result",
          "data": {
            "text/html": [
              "<div>\n",
              "<style scoped>\n",
              "    .dataframe tbody tr th:only-of-type {\n",
              "        vertical-align: middle;\n",
              "    }\n",
              "\n",
              "    .dataframe tbody tr th {\n",
              "        vertical-align: top;\n",
              "    }\n",
              "\n",
              "    .dataframe thead th {\n",
              "        text-align: right;\n",
              "    }\n",
              "</style>\n",
              "<table border=\"1\" class=\"dataframe\">\n",
              "  <thead>\n",
              "    <tr style=\"text-align: right;\">\n",
              "      <th></th>\n",
              "      <th>Total_Power</th>\n",
              "      <th>Total_Amount</th>\n",
              "    </tr>\n",
              "  </thead>\n",
              "  <tbody>\n",
              "    <tr>\n",
              "      <th>0</th>\n",
              "      <td>10</td>\n",
              "      <td>5272800.00</td>\n",
              "    </tr>\n",
              "    <tr>\n",
              "      <th>3</th>\n",
              "      <td>14</td>\n",
              "      <td>7421881.50</td>\n",
              "    </tr>\n",
              "    <tr>\n",
              "      <th>4</th>\n",
              "      <td>25</td>\n",
              "      <td>13357192.50</td>\n",
              "    </tr>\n",
              "    <tr>\n",
              "      <th>5</th>\n",
              "      <td>28</td>\n",
              "      <td>14838277.50</td>\n",
              "    </tr>\n",
              "    <tr>\n",
              "      <th>6</th>\n",
              "      <td>7</td>\n",
              "      <td>2659494.60</td>\n",
              "    </tr>\n",
              "    <tr>\n",
              "      <th>...</th>\n",
              "      <td>...</td>\n",
              "      <td>...</td>\n",
              "    </tr>\n",
              "    <tr>\n",
              "      <th>16939</th>\n",
              "      <td>1</td>\n",
              "      <td>401700.00</td>\n",
              "    </tr>\n",
              "    <tr>\n",
              "      <th>16940</th>\n",
              "      <td>20</td>\n",
              "      <td>10751580.00</td>\n",
              "    </tr>\n",
              "    <tr>\n",
              "      <th>16941</th>\n",
              "      <td>20</td>\n",
              "      <td>10580920.00</td>\n",
              "    </tr>\n",
              "    <tr>\n",
              "      <th>16945</th>\n",
              "      <td>4</td>\n",
              "      <td>2346796.88</td>\n",
              "    </tr>\n",
              "    <tr>\n",
              "      <th>16946</th>\n",
              "      <td>40</td>\n",
              "      <td>25603200.00</td>\n",
              "    </tr>\n",
              "  </tbody>\n",
              "</table>\n",
              "<p>4976 rows × 2 columns</p>\n",
              "</div>"
            ],
            "text/plain": [
              "       Total_Power  Total_Amount\n",
              "0               10    5272800.00\n",
              "3               14    7421881.50\n",
              "4               25   13357192.50\n",
              "5               28   14838277.50\n",
              "6                7    2659494.60\n",
              "...            ...           ...\n",
              "16939            1     401700.00\n",
              "16940           20   10751580.00\n",
              "16941           20   10580920.00\n",
              "16945            4    2346796.88\n",
              "16946           40   25603200.00\n",
              "\n",
              "[4976 rows x 2 columns]"
            ]
          },
          "metadata": {
            "tags": []
          },
          "execution_count": 11
        }
      ]
    },
    {
      "cell_type": "code",
      "metadata": {
        "id": "2FY8iJHsNqGn",
        "outputId": "82fe0fad-ecd2-455a-ef53-37c768133ad1",
        "colab": {
          "base_uri": "https://localhost:8080/"
        }
      },
      "source": [
        "min(potenciaXprecio_sinceros['Total_Power']) #Potencia Minima"
      ],
      "execution_count": 12,
      "outputs": [
        {
          "output_type": "execute_result",
          "data": {
            "text/plain": [
              "1"
            ]
          },
          "metadata": {
            "tags": []
          },
          "execution_count": 12
        }
      ]
    },
    {
      "cell_type": "code",
      "metadata": {
        "id": "JmXipX-mNqFC",
        "outputId": "724b2e17-ddba-4708-c023-a04f3a91ee4a",
        "colab": {
          "base_uri": "https://localhost:8080/"
        }
      },
      "source": [
        "(potenciaXprecio_sinceros['Total_Power']).count() #Cantidad de elementos "
      ],
      "execution_count": 13,
      "outputs": [
        {
          "output_type": "execute_result",
          "data": {
            "text/plain": [
              "4976"
            ]
          },
          "metadata": {
            "tags": []
          },
          "execution_count": 13
        }
      ]
    },
    {
      "cell_type": "code",
      "metadata": {
        "id": "l79ASNJINqA5",
        "outputId": "b0d5ed58-6ac9-47a2-8b25-591530f2cca7",
        "colab": {
          "base_uri": "https://localhost:8080/"
        }
      },
      "source": [
        "#Cantidad de productos con potencia 0\n",
        "(potenciaXprecio['Total_Power']).count() - (potenciaXprecio_sinceros['Total_Power']).count()"
      ],
      "execution_count": 14,
      "outputs": [
        {
          "output_type": "execute_result",
          "data": {
            "text/plain": [
              "11971"
            ]
          },
          "metadata": {
            "tags": []
          },
          "execution_count": 14
        }
      ]
    },
    {
      "cell_type": "code",
      "metadata": {
        "id": "UHkOUA3MNp7R",
        "outputId": "2feeb729-0ac1-4553-c6be-ea3d4c8f2d92",
        "colab": {
          "base_uri": "https://localhost:8080/"
        }
      },
      "source": [
        "#promedio de potencias distintas de cero\n",
        "sum(potenciaXprecio_sinceros['Total_Power'])/(potenciaXprecio_sinceros['Total_Power']).count() "
      ],
      "execution_count": 16,
      "outputs": [
        {
          "output_type": "execute_result",
          "data": {
            "text/plain": [
              "7.96322347266881"
            ]
          },
          "metadata": {
            "tags": []
          },
          "execution_count": 16
        }
      ]
    },
    {
      "cell_type": "markdown",
      "metadata": {
        "id": "oa3PZvDBOTut"
      },
      "source": [
        "### Logicamente, y como esperabamos, el promedio de potencia sube cuando removemos las potencias iguales a cero. Notamos que tan solo cerca de 1/3 de los productos tienen una potencia asociada."
      ]
    },
    {
      "cell_type": "code",
      "metadata": {
        "id": "N-cGNny-Np5I",
        "outputId": "eacdbd4e-6564-4bd1-9593-2d69ddd01dc3",
        "colab": {
          "base_uri": "https://localhost:8080/"
        }
      },
      "source": [
        "#Notamos de la grafica anterior que la mayoria de los productos se nuclean en potencias menores a 100KWh\n",
        "#Queremos ver cuantos de estos productos tienen esa caracteristica\n",
        "\n",
        "filtro0_100 = potenciaXprecio_sinceros['Total_Power'] < 100 \n",
        "potencias0_100 = potenciaXprecio_sinceros[filtro0_100]['Total_Power']\n",
        "potencias0_100.count()"
      ],
      "execution_count": 17,
      "outputs": [
        {
          "output_type": "execute_result",
          "data": {
            "text/plain": [
              "4925"
            ]
          },
          "metadata": {
            "tags": []
          },
          "execution_count": 17
        }
      ]
    },
    {
      "cell_type": "code",
      "metadata": {
        "id": "SbxPaN9WNp0P",
        "outputId": "edd71ac8-bf8a-4e16-943b-2124b41d390e",
        "colab": {
          "base_uri": "https://localhost:8080/"
        }
      },
      "source": [
        "#Es decir que aquellos productos con potencias mayores a 100 son (dentro de los que tienen potencia):\n",
        "(potenciaXprecio_sinceros['Total_Power']).count() - potencias0_100.count()"
      ],
      "execution_count": 18,
      "outputs": [
        {
          "output_type": "execute_result",
          "data": {
            "text/plain": [
              "51"
            ]
          },
          "metadata": {
            "tags": []
          },
          "execution_count": 18
        }
      ]
    },
    {
      "cell_type": "code",
      "metadata": {
        "id": "-rTmVcy8OX75",
        "outputId": "ed530986-d3c7-4fc0-cf88-5714f68c4486",
        "colab": {
          "base_uri": "https://localhost:8080/"
        }
      },
      "source": [
        "#Vemos que casi todos los productos con potencia la tienen entre 0-100. Queremos ver dentro de ese rango como\n",
        "#se distribuye la potencia\n",
        "\n",
        "potencias0_100"
      ],
      "execution_count": 19,
      "outputs": [
        {
          "output_type": "execute_result",
          "data": {
            "text/plain": [
              "0        10\n",
              "3        14\n",
              "4        25\n",
              "5        28\n",
              "6         7\n",
              "         ..\n",
              "16939     1\n",
              "16940    20\n",
              "16941    20\n",
              "16945     4\n",
              "16946    40\n",
              "Name: Total_Power, Length: 4925, dtype: int64"
            ]
          },
          "metadata": {
            "tags": []
          },
          "execution_count": 19
        }
      ]
    },
    {
      "cell_type": "code",
      "metadata": {
        "id": "ojvsovkEOX-e",
        "outputId": "9772ffb8-cd91-4692-fa03-d0b355298109",
        "colab": {
          "base_uri": "https://localhost:8080/",
          "height": 317
        }
      },
      "source": [
        "g = sns.kdeplot(potencias0_100)\n",
        "g.set_title(\"Densidad de potencia de un producto\", fontsize=14)\n",
        "g.set_xlabel(\"Potencia\", fontsize=14)\n",
        "g.set_ylabel(\"Densidad\", fontsize=14)"
      ],
      "execution_count": 21,
      "outputs": [
        {
          "output_type": "execute_result",
          "data": {
            "text/plain": [
              "Text(0, 0.5, 'Densidad')"
            ]
          },
          "metadata": {
            "tags": []
          },
          "execution_count": 21
        },
        {
          "output_type": "display_data",
          "data": {
            "image/png": "[encoded data removed]",
            "text/plain": [
              "<Figure size 432x288 with 1 Axes>"
            ]
          },
          "metadata": {
            "tags": [],
            "needs_background": "light"
          }
        }
      ]
    },
    {
      "cell_type": "markdown",
      "metadata": {
        "id": "--4nmKTOOeLj"
      },
      "source": [
        "### De este nuevo grafico inferimos lo esperado: la mayor densidad de potencias, el 25%, se agrupan en torno al cero, es decir con baja potencia cercana al cero. Recordemos que habiamos quitado las potencias cero para este analisis.\n",
        "### ¿Por que esperabamos este resultado? Porque cuando calculamos el promedio este nos habia dado aproximadamente 7, es decir bastante mas cercano al 0 que al 500, que era la potencia maxima."
      ]
    },
    {
      "cell_type": "code",
      "metadata": {
        "id": "UFzUqt1tOYFd",
        "outputId": "2594ec67-52fd-4235-b85b-479393da7a4d",
        "colab": {
          "base_uri": "https://localhost:8080/",
          "height": 317
        }
      },
      "source": [
        "#Mostraremos una nueva medición, muy parecida a la anterior pero solo para las potencias entre 0 y 10:\n",
        "\n",
        "filtro0_10 = potenciaXprecio_sinceros['Total_Power'] < 10\n",
        "potencias0_10 = potenciaXprecio_sinceros[filtro0_10]['Total_Power']\n",
        "\n",
        "g = sns.kdeplot(potencias0_10)\n",
        "g.set_title(\"Densidad de potencia de un producto\", fontsize=14)\n",
        "g.set_xlabel(\"Potencia\", fontsize=14)\n",
        "g.set_ylabel(\"Densidad\", fontsize=14)"
      ],
      "execution_count": 23,
      "outputs": [
        {
          "output_type": "execute_result",
          "data": {
            "text/plain": [
              "Text(0, 0.5, 'Densidad')"
            ]
          },
          "metadata": {
            "tags": []
          },
          "execution_count": 23
        },
        {
          "output_type": "display_data",
          "data": {
            "image/png": "[encoded data removed]",
            "text/plain": [
              "<Figure size 432x288 with 1 Axes>"
            ]
          },
          "metadata": {
            "tags": [],
            "needs_background": "light"
          }
        }
      ]
    },
    {
      "cell_type": "markdown",
      "metadata": {
        "id": "nhl7NQaWOiup"
      },
      "source": [
        "### De este grafico mucho mas pequeño en escala, vemos que el 70% de las potencias toma como valor 1KWh, concluyendo asi que la mayoria de los productos tienen una potencia baja. "
      ]
    },
    {
      "cell_type": "code",
      "metadata": {
        "id": "91V5nG6mOYME",
        "outputId": "ced8c717-8429-4e1c-eac5-92accb0dbc56",
        "colab": {
          "base_uri": "https://localhost:8080/"
        }
      },
      "source": [
        "# Cuantos productos tienen potencia 1KWh? (Agrupamos las potencias decimales entre 0 y 2)\n",
        "\n",
        "filtro1 = (potenciaXprecio_sinceros['Total_Power'] > 0)& (potenciaXprecio_sinceros['Total_Power'] < 2)\n",
        "potencias1 = potenciaXprecio_sinceros[filtro1]['Total_Power'].count()\n",
        "potencias1"
      ],
      "execution_count": 25,
      "outputs": [
        {
          "output_type": "execute_result",
          "data": {
            "text/plain": [
              "2192"
            ]
          },
          "metadata": {
            "tags": []
          },
          "execution_count": 25
        }
      ]
    },
    {
      "cell_type": "markdown",
      "metadata": {
        "id": "jKwBK-ueOmQO"
      },
      "source": [
        "### La cantidad total de productos con potencia era 4976, y los que tienen potencia 1 son 2912. Es facil notar que mas de la mitad de los productos con potencias distintas de cero tinen potencia = 1KWh"
      ]
    },
    {
      "cell_type": "markdown",
      "metadata": {
        "id": "NiF0q2dfOmXu"
      },
      "source": [
        "### En el grafico de potencias por precio presentado mas arriba, habiamos notamos ciertos productos de relativa baja potencia con precios muy altos. Queremos visualizar los datos mas detalladamente para ver si notamos alguna irregularidad.\n",
        "### Notamos que estas irregularidades parecen estar bajo potencias menores a 100KWh"
      ]
    },
    {
      "cell_type": "code",
      "metadata": {
        "id": "Mf-oLxY8OYQ8",
        "outputId": "3812bd85-431a-4940-a334-02dc4d8f5111",
        "colab": {
          "base_uri": "https://localhost:8080/",
          "height": 419
        }
      },
      "source": [
        "#Removemos los datos que no nos interesan\n",
        "filtro100 = potenciaXprecio['Total_Power'] < 100 \n",
        "potenciasXprecio100 = potenciaXprecio[filtro100]\n",
        "potenciasXprecio100"
      ],
      "execution_count": 26,
      "outputs": [
        {
          "output_type": "execute_result",
          "data": {
            "text/html": [
              "<div>\n",
              "<style scoped>\n",
              "    .dataframe tbody tr th:only-of-type {\n",
              "        vertical-align: middle;\n",
              "    }\n",
              "\n",
              "    .dataframe tbody tr th {\n",
              "        vertical-align: top;\n",
              "    }\n",
              "\n",
              "    .dataframe thead th {\n",
              "        text-align: right;\n",
              "    }\n",
              "</style>\n",
              "<table border=\"1\" class=\"dataframe\">\n",
              "  <thead>\n",
              "    <tr style=\"text-align: right;\">\n",
              "      <th></th>\n",
              "      <th>Total_Power</th>\n",
              "      <th>Total_Amount</th>\n",
              "    </tr>\n",
              "  </thead>\n",
              "  <tbody>\n",
              "    <tr>\n",
              "      <th>0</th>\n",
              "      <td>10</td>\n",
              "      <td>5272800.00</td>\n",
              "    </tr>\n",
              "    <tr>\n",
              "      <th>1</th>\n",
              "      <td>0</td>\n",
              "      <td>48230.00</td>\n",
              "    </tr>\n",
              "    <tr>\n",
              "      <th>2</th>\n",
              "      <td>0</td>\n",
              "      <td>83865.60</td>\n",
              "    </tr>\n",
              "    <tr>\n",
              "      <th>3</th>\n",
              "      <td>14</td>\n",
              "      <td>7421881.50</td>\n",
              "    </tr>\n",
              "    <tr>\n",
              "      <th>4</th>\n",
              "      <td>25</td>\n",
              "      <td>13357192.50</td>\n",
              "    </tr>\n",
              "    <tr>\n",
              "      <th>...</th>\n",
              "      <td>...</td>\n",
              "      <td>...</td>\n",
              "    </tr>\n",
              "    <tr>\n",
              "      <th>16942</th>\n",
              "      <td>0</td>\n",
              "      <td>103350.00</td>\n",
              "    </tr>\n",
              "    <tr>\n",
              "      <th>16943</th>\n",
              "      <td>0</td>\n",
              "      <td>93015.00</td>\n",
              "    </tr>\n",
              "    <tr>\n",
              "      <th>16944</th>\n",
              "      <td>0</td>\n",
              "      <td>103350.00</td>\n",
              "    </tr>\n",
              "    <tr>\n",
              "      <th>16945</th>\n",
              "      <td>4</td>\n",
              "      <td>2346796.88</td>\n",
              "    </tr>\n",
              "    <tr>\n",
              "      <th>16946</th>\n",
              "      <td>40</td>\n",
              "      <td>25603200.00</td>\n",
              "    </tr>\n",
              "  </tbody>\n",
              "</table>\n",
              "<p>16896 rows × 2 columns</p>\n",
              "</div>"
            ],
            "text/plain": [
              "       Total_Power  Total_Amount\n",
              "0               10    5272800.00\n",
              "1                0      48230.00\n",
              "2                0      83865.60\n",
              "3               14    7421881.50\n",
              "4               25   13357192.50\n",
              "...            ...           ...\n",
              "16942            0     103350.00\n",
              "16943            0      93015.00\n",
              "16944            0     103350.00\n",
              "16945            4    2346796.88\n",
              "16946           40   25603200.00\n",
              "\n",
              "[16896 rows x 2 columns]"
            ]
          },
          "metadata": {
            "tags": []
          },
          "execution_count": 26
        }
      ]
    },
    {
      "cell_type": "code",
      "metadata": {
        "id": "1ASN10wjOYTl",
        "outputId": "1ddcf7a4-71b6-43ae-fb30-d9171510e36a",
        "colab": {
          "base_uri": "https://localhost:8080/",
          "height": 669
        }
      },
      "source": [
        "potenciasXprecio100.nlargest(20,'Total_Amount')"
      ],
      "execution_count": 28,
      "outputs": [
        {
          "output_type": "execute_result",
          "data": {
            "text/html": [
              "<div>\n",
              "<style scoped>\n",
              "    .dataframe tbody tr th:only-of-type {\n",
              "        vertical-align: middle;\n",
              "    }\n",
              "\n",
              "    .dataframe tbody tr th {\n",
              "        vertical-align: top;\n",
              "    }\n",
              "\n",
              "    .dataframe thead th {\n",
              "        text-align: right;\n",
              "    }\n",
              "</style>\n",
              "<table border=\"1\" class=\"dataframe\">\n",
              "  <thead>\n",
              "    <tr style=\"text-align: right;\">\n",
              "      <th></th>\n",
              "      <th>Total_Power</th>\n",
              "      <th>Total_Amount</th>\n",
              "    </tr>\n",
              "  </thead>\n",
              "  <tbody>\n",
              "    <tr>\n",
              "      <th>16063</th>\n",
              "      <td>33</td>\n",
              "      <td>1.320000e+09</td>\n",
              "    </tr>\n",
              "    <tr>\n",
              "      <th>5310</th>\n",
              "      <td>20</td>\n",
              "      <td>9.199924e+08</td>\n",
              "    </tr>\n",
              "    <tr>\n",
              "      <th>15641</th>\n",
              "      <td>19</td>\n",
              "      <td>7.600000e+08</td>\n",
              "    </tr>\n",
              "    <tr>\n",
              "      <th>5309</th>\n",
              "      <td>15</td>\n",
              "      <td>6.600053e+08</td>\n",
              "    </tr>\n",
              "    <tr>\n",
              "      <th>15784</th>\n",
              "      <td>20</td>\n",
              "      <td>6.600046e+08</td>\n",
              "    </tr>\n",
              "    <tr>\n",
              "      <th>5304</th>\n",
              "      <td>11</td>\n",
              "      <td>5.231387e+08</td>\n",
              "    </tr>\n",
              "    <tr>\n",
              "      <th>15459</th>\n",
              "      <td>10</td>\n",
              "      <td>4.000000e+08</td>\n",
              "    </tr>\n",
              "    <tr>\n",
              "      <th>16089</th>\n",
              "      <td>13</td>\n",
              "      <td>3.898800e+08</td>\n",
              "    </tr>\n",
              "    <tr>\n",
              "      <th>16716</th>\n",
              "      <td>3</td>\n",
              "      <td>2.211300e+08</td>\n",
              "    </tr>\n",
              "    <tr>\n",
              "      <th>2179</th>\n",
              "      <td>4</td>\n",
              "      <td>2.162400e+08</td>\n",
              "    </tr>\n",
              "    <tr>\n",
              "      <th>5308</th>\n",
              "      <td>4</td>\n",
              "      <td>2.024060e+08</td>\n",
              "    </tr>\n",
              "    <tr>\n",
              "      <th>14325</th>\n",
              "      <td>5</td>\n",
              "      <td>1.809600e+08</td>\n",
              "    </tr>\n",
              "    <tr>\n",
              "      <th>3050</th>\n",
              "      <td>2</td>\n",
              "      <td>1.625625e+08</td>\n",
              "    </tr>\n",
              "    <tr>\n",
              "      <th>5626</th>\n",
              "      <td>3</td>\n",
              "      <td>1.554202e+08</td>\n",
              "    </tr>\n",
              "    <tr>\n",
              "      <th>7322</th>\n",
              "      <td>3</td>\n",
              "      <td>1.469882e+08</td>\n",
              "    </tr>\n",
              "    <tr>\n",
              "      <th>16316</th>\n",
              "      <td>2</td>\n",
              "      <td>1.421420e+08</td>\n",
              "    </tr>\n",
              "    <tr>\n",
              "      <th>7324</th>\n",
              "      <td>3</td>\n",
              "      <td>1.409887e+08</td>\n",
              "    </tr>\n",
              "    <tr>\n",
              "      <th>7295</th>\n",
              "      <td>3</td>\n",
              "      <td>1.345890e+08</td>\n",
              "    </tr>\n",
              "    <tr>\n",
              "      <th>1935</th>\n",
              "      <td>2</td>\n",
              "      <td>1.310400e+08</td>\n",
              "    </tr>\n",
              "    <tr>\n",
              "      <th>5695</th>\n",
              "      <td>3</td>\n",
              "      <td>1.182852e+08</td>\n",
              "    </tr>\n",
              "  </tbody>\n",
              "</table>\n",
              "</div>"
            ],
            "text/plain": [
              "       Total_Power  Total_Amount\n",
              "16063           33  1.320000e+09\n",
              "5310            20  9.199924e+08\n",
              "15641           19  7.600000e+08\n",
              "5309            15  6.600053e+08\n",
              "15784           20  6.600046e+08\n",
              "5304            11  5.231387e+08\n",
              "15459           10  4.000000e+08\n",
              "16089           13  3.898800e+08\n",
              "16716            3  2.211300e+08\n",
              "2179             4  2.162400e+08\n",
              "5308             4  2.024060e+08\n",
              "14325            5  1.809600e+08\n",
              "3050             2  1.625625e+08\n",
              "5626             3  1.554202e+08\n",
              "7322             3  1.469882e+08\n",
              "16316            2  1.421420e+08\n",
              "7324             3  1.409887e+08\n",
              "7295             3  1.345890e+08\n",
              "1935             2  1.310400e+08\n",
              "5695             3  1.182852e+08"
            ]
          },
          "metadata": {
            "tags": []
          },
          "execution_count": 28
        }
      ]
    },
    {
      "cell_type": "markdown",
      "metadata": {
        "id": "o13KwWoiOwFr"
      },
      "source": [
        "### A simple vista, no notamos ninguna irregularidad con estos valores. Sin mas detalles acerca del producto, no podemos decidir si estos datos son erroneos o acertados."
      ]
    },
    {
      "cell_type": "code",
      "metadata": {
        "id": "RcXBdIy_OYPA"
      },
      "source": [
        ""
      ],
      "execution_count": null,
      "outputs": []
    }
  ]
}